{
 "cells": [
  {
   "cell_type": "code",
   "execution_count": 19,
   "metadata": {
    "collapsed": false
   },
   "outputs": [],
   "source": [
    "import os\n",
    "import json\n",
    "import pandas\n",
    "import numpy as np\n",
    "import pickle\n",
    "from sklearn import preprocessing\n",
    "from sklearn.model_selection import train_test_split\n",
    "from sklearn.linear_model import LinearRegression\n",
    "from sklearn.neural_network import MLPRegressor\n",
    "import tensorflow as tf\n",
    "import matplotlib.pyplot as plt\n",
    "from sklearn.model_selection import learning_curve\n",
    "from sklearn.externals import joblib\n",
    "% matplotlib inline"
   ]
  },
  {
   "cell_type": "code",
   "execution_count": 2,
   "metadata": {
    "collapsed": false
   },
   "outputs": [],
   "source": [
    "Ned = []\n",
    "Med = []\n",
    "NRd = []\n",
    "MRd = []\n",
    "fck = []\n",
    "As = []\n",
    "bh = []\n",
    "a = []\n",
    "xu = []\n",
    "l0 = []\n",
    "listdir = os.listdir(\"../../data_set/buckling\")\n",
    "\n",
    "\n",
    "for file in listdir:\n",
    "    f = open(\"../../data_set/buckling/\" + file)\n",
    "    d = json.loads(f.read())\n",
    "    f.close()\n",
    "\n",
    "    for o in d:\n",
    "        Ned.append(o[\"Ned\"])\n",
    "        Med.append(o[\"Med\"])\n",
    "        NRd.append(o[\"NRd\"])\n",
    "        MRd.append(o[\"MRd\"])\n",
    "        fck.append(o[\"fck\"])\n",
    "        As.append(o[\"As\"])\n",
    "        bh.append(o[\"bh\"])\n",
    "        a.append(o[\"a\"])\n",
    "        xu.append(o[\"xu\"])\n",
    "        l0.append(o[\"l0\"])\n",
    "\n",
    "rho = []\n",
    "for i in range(len(As)):\n",
    "    rho.append(As[i] / bh[i]**2)"
   ]
  },
  {
   "cell_type": "code",
   "execution_count": 3,
   "metadata": {
    "collapsed": false
   },
   "outputs": [
    {
     "name": "stdout",
     "output_type": "stream",
     "text": [
      "(9766650, 6)\n",
      "(3158400, 6)\n"
     ]
    },
    {
     "data": {
      "text/html": [
       "<div>\n",
       "<table border=\"1\" class=\"dataframe\">\n",
       "  <thead>\n",
       "    <tr style=\"text-align: right;\">\n",
       "      <th></th>\n",
       "      <th>MRd</th>\n",
       "      <th>Ned</th>\n",
       "      <th>bh</th>\n",
       "      <th>fck</th>\n",
       "      <th>l0</th>\n",
       "      <th>rho</th>\n",
       "    </tr>\n",
       "  </thead>\n",
       "  <tbody>\n",
       "    <tr>\n",
       "      <th>0</th>\n",
       "      <td>37582574</td>\n",
       "      <td>100000</td>\n",
       "      <td>250</td>\n",
       "      <td>20</td>\n",
       "      <td>5400</td>\n",
       "      <td>0.004800</td>\n",
       "    </tr>\n",
       "    <tr>\n",
       "      <th>3</th>\n",
       "      <td>41767891</td>\n",
       "      <td>100000</td>\n",
       "      <td>275</td>\n",
       "      <td>20</td>\n",
       "      <td>5400</td>\n",
       "      <td>0.003967</td>\n",
       "    </tr>\n",
       "    <tr>\n",
       "      <th>6</th>\n",
       "      <td>46007825</td>\n",
       "      <td>100000</td>\n",
       "      <td>300</td>\n",
       "      <td>20</td>\n",
       "      <td>5400</td>\n",
       "      <td>0.003333</td>\n",
       "    </tr>\n",
       "    <tr>\n",
       "      <th>9</th>\n",
       "      <td>50355745</td>\n",
       "      <td>100000</td>\n",
       "      <td>325</td>\n",
       "      <td>20</td>\n",
       "      <td>5400</td>\n",
       "      <td>0.002840</td>\n",
       "    </tr>\n",
       "    <tr>\n",
       "      <th>12</th>\n",
       "      <td>54748450</td>\n",
       "      <td>100000</td>\n",
       "      <td>350</td>\n",
       "      <td>20</td>\n",
       "      <td>5400</td>\n",
       "      <td>0.002449</td>\n",
       "    </tr>\n",
       "  </tbody>\n",
       "</table>\n",
       "</div>"
      ],
      "text/plain": [
       "         MRd     Ned   bh  fck    l0       rho\n",
       "0   37582574  100000  250   20  5400  0.004800\n",
       "3   41767891  100000  275   20  5400  0.003967\n",
       "6   46007825  100000  300   20  5400  0.003333\n",
       "9   50355745  100000  325   20  5400  0.002840\n",
       "12  54748450  100000  350   20  5400  0.002449"
      ]
     },
     "execution_count": 3,
     "metadata": {},
     "output_type": "execute_result"
    }
   ],
   "source": [
    "df = pandas.DataFrame({\n",
    "        \"l0\": l0,\n",
    "        \"Ned\": Ned,\n",
    "        \"MRd\": MRd,\n",
    "        \"fck\": fck,\n",
    "        \"bh\": bh,\n",
    "        \"rho\": rho,\n",
    "    }\n",
    "    )\n",
    "print(df.shape)\n",
    "df = df[df[\"fck\"] == 20]\n",
    "print(df.shape)\n",
    "df.head(5)"
   ]
  },
  {
   "cell_type": "code",
   "execution_count": 4,
   "metadata": {
    "collapsed": false
   },
   "outputs": [
    {
     "name": "stdout",
     "output_type": "stream",
     "text": [
      "[[ 0.          0.1088725   0.          0.34693878]\n",
      " [ 0.00463363  0.0877827   0.          0.34693878]\n",
      " [ 0.00932774  0.07174218  0.          0.34693878]\n",
      " ..., \n",
      " [ 0.49945671  0.01866161  0.31010453  0.79591837]\n",
      " [ 0.49289762  0.01210865  0.31010453  0.79591837]\n",
      " [ 0.49883828  0.00842993  0.31010453  0.79591837]]\n"
     ]
    },
    {
     "data": {
      "text/plain": [
       "MinMaxScaler(copy=True, feature_range=(0, 1))"
      ]
     },
     "execution_count": 4,
     "metadata": {},
     "output_type": "execute_result"
    }
   ],
   "source": [
    "# Scale all features by their mean and std-dev to value 0 - 1. This is the correct one.\n",
    "\n",
    "feat_df = df[[\"MRd\", \"rho\", \"Ned\", \"l0\"]]\n",
    "res_df = df[[\"bh\"]]\n",
    "\n",
    "scale_feat = preprocessing.MinMaxScaler()\n",
    "scale_feat.fit(feat_df)\n",
    "print(scale_feat.transform(feat_df))\n",
    "\n",
    "scale_res = preprocessing.MinMaxScaler()\n",
    "scale_res.fit(res_df)"
   ]
  },
  {
   "cell_type": "code",
   "execution_count": 5,
   "metadata": {
    "collapsed": false
   },
   "outputs": [
    {
     "name": "stdout",
     "output_type": "stream",
     "text": [
      "(2000000, 6) (1158400, 6)\n"
     ]
    }
   ],
   "source": [
    "try:\n",
    "    with open(\"df_fck20.pkl\", \"rb\") as f:\n",
    "        df = pickle.load(f)\n",
    "except FileNotFoundError:\n",
    "    df = df.sample(frac=1)\n",
    "\n",
    "df_train = df[:int(2e6)]\n",
    "df_test = df[int(2e6):]\n",
    "df_train.head(5)\n",
    "\n",
    "print(df_train.shape, df_test.shape)"
   ]
  },
  {
   "cell_type": "code",
   "execution_count": 6,
   "metadata": {
    "collapsed": false
   },
   "outputs": [
    {
     "name": "stdout",
     "output_type": "stream",
     "text": [
      "Training features:\n",
      " MRd; rho, Ned, l0\n",
      "\n",
      "[[ 0.29770044  0.23260504  0.69686411  1.        ]\n",
      " [ 0.45736543  0.00285478  0.39721254  0.20408163]\n",
      " [ 0.7058641   0.00533106  0.96515679  0.08163265]\n",
      " [ 0.44093368  0.06083501  0.51219512  0.85714286]\n",
      " [ 0.40449732  0.03902067  0.12195122  0.24489796]]\n",
      "\n",
      "Training labels:\n",
      " bh\n",
      "\n",
      "[[400]\n",
      " [700]\n",
      " [650]\n",
      " [525]\n",
      " [700]]\n",
      "(2000000, 4)\n"
     ]
    }
   ],
   "source": [
    "train_feat = scale_feat.transform(df_train[[\"MRd\", \"rho\", \"Ned\", \"l0\"]])\n",
    "train_res = df_train[[\"bh\"]].as_matrix()\n",
    "\n",
    "print(\"Training features:\\n MRd; rho, Ned, l0\\n\")\n",
    "print(train_feat[:5])\n",
    "\n",
    "print(\"\\nTraining labels:\\n bh\\n\")\n",
    "print(train_res[:5])\n",
    "print(train_feat.shape)"
   ]
  },
  {
   "cell_type": "code",
   "execution_count": 7,
   "metadata": {
    "collapsed": false
   },
   "outputs": [],
   "source": [
    "X = train_feat\n",
    "y = train_res\n",
    "y = np.reshape(y, y.shape[0])"
   ]
  },
  {
   "cell_type": "code",
   "execution_count": 14,
   "metadata": {
    "collapsed": false
   },
   "outputs": [
    {
     "name": "stdout",
     "output_type": "stream",
     "text": [
      "Iteration 1, loss = 17874.60686405\n",
      "Validation score: 0.871449\n",
      "Iteration 2, loss = 1209.35660848\n",
      "Validation score: 0.884205\n",
      "Iteration 3, loss = 1140.23627441\n",
      "Validation score: 0.887919\n",
      "Iteration 4, loss = 1116.64021119\n",
      "Validation score: 0.889375\n",
      "Iteration 5, loss = 1107.13813129\n",
      "Validation score: 0.889937\n",
      "Iteration 6, loss = 1103.16868353\n",
      "Validation score: 0.890207\n",
      "Iteration 7, loss = 1101.48482585\n",
      "Validation score: 0.890162\n",
      "Iteration 8, loss = 1100.73854247\n",
      "Validation score: 0.890347\n",
      "Iteration 9, loss = 1100.32348258\n",
      "Validation score: 0.890294\n",
      "Iteration 10, loss = 1100.00836575\n",
      "Validation score: 0.890240\n",
      "Iteration 11, loss = 1099.81688776\n",
      "Validation score: 0.890394\n",
      "Validation score did not improve more than tol=0.000100 for two consecutive epochs. Stopping.\n"
     ]
    }
   ],
   "source": [
    "try:\n",
    "    m = joblib.load(\"buckling_fck20\")\n",
    "except FileNotFoundError:\n",
    "    m = MLPRegressor(max_iter=8000, learning_rate=\"adaptive\", verbose=True, early_stopping=True)\n",
    "    m.fit(X, y)"
   ]
  },
  {
   "cell_type": "code",
   "execution_count": 15,
   "metadata": {
    "collapsed": false
   },
   "outputs": [
    {
     "name": "stderr",
     "output_type": "stream",
     "text": [
      "/usr/local/lib/python3.5/dist-packages/sklearn/neural_network/multilayer_perceptron.py:563: ConvergenceWarning: Stochastic Optimizer: Maximum iterations reached and the optimization hasn't converged yet.\n",
      "  % (), ConvergenceWarning)\n",
      "/usr/local/lib/python3.5/dist-packages/sklearn/neural_network/multilayer_perceptron.py:563: ConvergenceWarning: Stochastic Optimizer: Maximum iterations reached and the optimization hasn't converged yet.\n",
      "  % (), ConvergenceWarning)\n",
      "/usr/local/lib/python3.5/dist-packages/sklearn/neural_network/multilayer_perceptron.py:563: ConvergenceWarning: Stochastic Optimizer: Maximum iterations reached and the optimization hasn't converged yet.\n",
      "  % (), ConvergenceWarning)\n",
      "/usr/local/lib/python3.5/dist-packages/sklearn/neural_network/multilayer_perceptron.py:563: ConvergenceWarning: Stochastic Optimizer: Maximum iterations reached and the optimization hasn't converged yet.\n",
      "  % (), ConvergenceWarning)\n",
      "/usr/local/lib/python3.5/dist-packages/sklearn/neural_network/multilayer_perceptron.py:563: ConvergenceWarning: Stochastic Optimizer: Maximum iterations reached and the optimization hasn't converged yet.\n",
      "  % (), ConvergenceWarning)\n",
      "/usr/local/lib/python3.5/dist-packages/sklearn/neural_network/multilayer_perceptron.py:563: ConvergenceWarning: Stochastic Optimizer: Maximum iterations reached and the optimization hasn't converged yet.\n",
      "  % (), ConvergenceWarning)\n",
      "/usr/local/lib/python3.5/dist-packages/sklearn/neural_network/multilayer_perceptron.py:563: ConvergenceWarning: Stochastic Optimizer: Maximum iterations reached and the optimization hasn't converged yet.\n",
      "  % (), ConvergenceWarning)\n",
      "/usr/local/lib/python3.5/dist-packages/sklearn/neural_network/multilayer_perceptron.py:563: ConvergenceWarning: Stochastic Optimizer: Maximum iterations reached and the optimization hasn't converged yet.\n",
      "  % (), ConvergenceWarning)\n",
      "/usr/local/lib/python3.5/dist-packages/sklearn/neural_network/multilayer_perceptron.py:563: ConvergenceWarning: Stochastic Optimizer: Maximum iterations reached and the optimization hasn't converged yet.\n",
      "  % (), ConvergenceWarning)\n",
      "/usr/local/lib/python3.5/dist-packages/sklearn/neural_network/multilayer_perceptron.py:563: ConvergenceWarning: Stochastic Optimizer: Maximum iterations reached and the optimization hasn't converged yet.\n",
      "  % (), ConvergenceWarning)\n",
      "/usr/local/lib/python3.5/dist-packages/sklearn/neural_network/multilayer_perceptron.py:563: ConvergenceWarning: Stochastic Optimizer: Maximum iterations reached and the optimization hasn't converged yet.\n",
      "  % (), ConvergenceWarning)\n",
      "/usr/local/lib/python3.5/dist-packages/sklearn/neural_network/multilayer_perceptron.py:563: ConvergenceWarning: Stochastic Optimizer: Maximum iterations reached and the optimization hasn't converged yet.\n",
      "  % (), ConvergenceWarning)\n",
      "/usr/local/lib/python3.5/dist-packages/sklearn/neural_network/multilayer_perceptron.py:563: ConvergenceWarning: Stochastic Optimizer: Maximum iterations reached and the optimization hasn't converged yet.\n",
      "  % (), ConvergenceWarning)\n",
      "/usr/local/lib/python3.5/dist-packages/sklearn/neural_network/multilayer_perceptron.py:563: ConvergenceWarning: Stochastic Optimizer: Maximum iterations reached and the optimization hasn't converged yet.\n",
      "  % (), ConvergenceWarning)\n",
      "/usr/local/lib/python3.5/dist-packages/sklearn/neural_network/multilayer_perceptron.py:563: ConvergenceWarning: Stochastic Optimizer: Maximum iterations reached and the optimization hasn't converged yet.\n",
      "  % (), ConvergenceWarning)\n"
     ]
    },
    {
     "data": {
      "image/png": "[encoded data removed]",
      "text/plain": [
       "<matplotlib.figure.Figure at 0x7ff4b4932ba8>"
      ]
     },
     "metadata": {},
     "output_type": "display_data"
    }
   ],
   "source": [
    "                                             \n",
    "def plot_learning_curve(estimator, title, X, y, ylim=None, cv=None,\n",
    "                        n_jobs=1, train_sizes=np.linspace(.1, 1.0, 5)):\n",
    "    \"\"\"\n",
    "    Generate a simple plot of the test and training learning curve.\n",
    "\n",
    "    Parameters\n",
    "    ----------\n",
    "    estimator : object type that implements the \"fit\" and \"predict\" methods\n",
    "        An object of that type which is cloned for each validation.\n",
    "\n",
    "    title : string\n",
    "        Title for the chart.\n",
    "\n",
    "    X : array-like, shape (n_samples, n_features)\n",
    "        Training vector, where n_samples is the number of samples and\n",
    "        n_features is the number of features.\n",
    "\n",
    "    y : array-like, shape (n_samples) or (n_samples, n_features), optional\n",
    "        Target relative to X for classification or regression;\n",
    "        None for unsupervised learning.\n",
    "\n",
    "    ylim : tuple, shape (ymin, ymax), optional\n",
    "        Defines minimum and maximum yvalues plotted.\n",
    "\n",
    "    cv : int, cross-validation generator or an iterable, optional\n",
    "        Determines the cross-validation splitting strategy.\n",
    "        Possible inputs for cv are:\n",
    "          - None, to use the default 3-fold cross-validation,\n",
    "          - integer, to specify the number of folds.\n",
    "          - An object to be used as a cross-validation generator.\n",
    "          - An iterable yielding train/test splits.\n",
    "\n",
    "        For integer/None inputs, if ``y`` is binary or multiclass,\n",
    "        :class:`StratifiedKFold` used. If the estimator is not a classifier\n",
    "        or if ``y`` is neither binary nor multiclass, :class:`KFold` is used.\n",
    "\n",
    "        Refer :ref:`User Guide <cross_validation>` for the various\n",
    "        cross-validators that can be used here.\n",
    "\n",
    "    n_jobs : integer, optional\n",
    "        Number of jobs to run in parallel (default 1).\n",
    "    \"\"\"\n",
    "    plt.figure()\n",
    "    plt.title(title)\n",
    "    if ylim is not None:\n",
    "        plt.ylim(*ylim)\n",
    "    plt.xlabel(\"Training examples\")\n",
    "    plt.ylabel(\"Score\")\n",
    "    train_sizes, train_scores, test_scores = learning_curve(\n",
    "        estimator, X, y, cv=cv, n_jobs=n_jobs, train_sizes=train_sizes)\n",
    "    train_scores_mean = np.mean(train_scores, axis=1)\n",
    "    train_scores_std = np.std(train_scores, axis=1)\n",
    "    test_scores_mean = np.mean(test_scores, axis=1)\n",
    "    test_scores_std = np.std(test_scores, axis=1)\n",
    "    plt.grid()\n",
    "\n",
    "    plt.fill_between(train_sizes, train_scores_mean - train_scores_std,\n",
    "                     train_scores_mean + train_scores_std, alpha=0.1,\n",
    "                     color=\"r\")\n",
    "    plt.fill_between(train_sizes, test_scores_mean - test_scores_std,\n",
    "                     test_scores_mean + test_scores_std, alpha=0.1, color=\"g\")\n",
    "    plt.plot(train_sizes, train_scores_mean, 'o-', color=\"r\",\n",
    "             label=\"Training score\")\n",
    "    plt.plot(train_sizes, test_scores_mean, 'o-', color=\"g\",\n",
    "             label=\"Cross-validation score\")\n",
    "\n",
    "    plt.legend(loc=\"best\")\n",
    "    return plt\n",
    "\n",
    "plot_learning_curve(MLPRegressor(), \"learning curve\", X[:int(1e4)], y[:int(1e4)])\n",
    "plt.show()"
   ]
  },
  {
   "cell_type": "code",
   "execution_count": 16,
   "metadata": {
    "collapsed": false
   },
   "outputs": [
    {
     "name": "stdout",
     "output_type": "stream",
     "text": [
      "Prediction : 376 Computed:  375 Deviation: -1.0%\n",
      "Prediction : 390 Computed:  450 Deviation: 13.0%\n",
      "Prediction : 292 Computed:  325 Deviation: 10.0%\n",
      "Prediction : 399 Computed:  425 Deviation: 6.0%\n",
      "Prediction : 566 Computed:  600 Deviation: 6.0%\n",
      "Prediction : 531 Computed:  525 Deviation: -1.0%\n",
      "Prediction : 641 Computed:  625 Deviation: -3.0%\n",
      "Prediction : 580 Computed:  475 Deviation: -22.0%\n",
      "Prediction : 357 Computed:  350 Deviation: -2.0%\n",
      "Prediction : 372 Computed:  375 Deviation: 1.0%\n"
     ]
    }
   ],
   "source": [
    "# Test\n",
    "test_feat = scale_feat.transform(df_test[[\"MRd\", \"rho\", \"Ned\", \"l0\"]])\n",
    "test_res = df_test[[\"bh\"]].as_matrix()\n",
    "\n",
    "pred = m.predict(test_feat)\n",
    "\n",
    "for i in range(10):\n",
    "    print(\"Prediction :\", int(pred[i]), \"Computed: \", test_res[i][0], \"Deviation: %s%%\" % (round(1 - (pred[i] / test_res[i])[0], 2) * 100)) "
   ]
  },
  {
   "cell_type": "code",
   "execution_count": 17,
   "metadata": {
    "collapsed": false
   },
   "outputs": [
    {
     "name": "stdout",
     "output_type": "stream",
     "text": [
      "Total accuracy 92.49%\n"
     ]
    }
   ],
   "source": [
    "dev = 0\n",
    "for i in range(pred.shape[0]):\n",
    "    dev += abs(1 - (pred[i] / test_res[i])[0])\n",
    "\n",
    "print(\"Total accuracy %s%%\" % (100 - round(dev / pred.shape[0] * 100, 2)))\n"
   ]
  },
  {
   "cell_type": "code",
   "execution_count": 22,
   "metadata": {
    "collapsed": false
   },
   "outputs": [],
   "source": [
    "joblib.dump(m, 'buckling_fck20.pkl') \n",
    "pickle.dump(df, open(\"df_fck20.pkl\", \"wb\"))"
   ]
  }
 ],
 "metadata": {
  "kernelspec": {
   "display_name": "Python 3",
   "language": "python",
   "name": "python3"
  },
  "language_info": {
   "codemirror_mode": {
    "name": "ipython",
    "version": 3
   },
   "file_extension": ".py",
   "mimetype": "text/x-python",
   "name": "python",
   "nbconvert_exporter": "python",
   "pygments_lexer": "ipython3",
   "version": "3.5.2"
  }
 },
 "nbformat": 4,
 "nbformat_minor": 2
}
