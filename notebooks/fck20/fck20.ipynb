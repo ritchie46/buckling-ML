{
 "cells": [
  {
   "cell_type": "code",
   "execution_count": 1,
   "metadata": {
    "collapsed": false
   },
   "outputs": [],
   "source": [
    "import os\n",
    "import json\n",
    "import pandas\n",
    "import numpy as np\n",
    "import pickle\n",
    "from sklearn import preprocessing\n",
    "from sklearn.model_selection import train_test_split\n",
    "from sklearn.linear_model import LinearRegression\n",
    "from sklearn.neural_network import MLPRegressor\n",
    "import tensorflow as tf\n",
    "import matplotlib.pyplot as plt\n",
    "from sklearn.model_selection import learning_curve\n",
    "from sklearn.externals import joblib\n",
    "% matplotlib inline"
   ]
  },
  {
   "cell_type": "code",
   "execution_count": 2,
   "metadata": {
    "collapsed": false
   },
   "outputs": [],
   "source": [
    "Ned = []\n",
    "Med = []\n",
    "NRd = []\n",
    "MRd = []\n",
    "fck = []\n",
    "As = []\n",
    "bh = []\n",
    "a = []\n",
    "xu = []\n",
    "l0 = []\n",
    "listdir = os.listdir(\"../../data_set/buckling\")\n",
    "\n",
    "\n",
    "for file in listdir:\n",
    "    f = open(\"../../data_set/buckling/\" + file)\n",
    "    d = json.loads(f.read())\n",
    "    f.close()\n",
    "\n",
    "    for o in d:\n",
    "        Ned.append(o[\"Ned\"])\n",
    "        #Med.append(o[\"Med\"])\n",
    "        #NRd.append(o[\"NRd\"])\n",
    "        #MRd.append(o[\"MRd\"])\n",
    "        fck.append(o[\"fck\"])\n",
    "        As.append(o[\"As\"])\n",
    "        bh.append(o[\"bh\"])\n",
    "        #a.append(o[\"a\"])\n",
    "        #xu.append(o[\"xu\"])\n",
    "        l0.append(o[\"l0\"])\n",
    "\n",
    "rho = []\n",
    "for i in range(len(As)):\n",
    "    rho.append(As[i] / bh[i]**2)"
   ]
  },
  {
   "cell_type": "code",
   "execution_count": 3,
   "metadata": {
    "collapsed": false
   },
   "outputs": [
    {
     "name": "stdout",
     "output_type": "stream",
     "text": [
      "(195333, 5)\n",
      "(63168, 5)\n"
     ]
    },
    {
     "data": {
      "text/html": [
       "<div>\n",
       "<table border=\"1\" class=\"dataframe\">\n",
       "  <thead>\n",
       "    <tr style=\"text-align: right;\">\n",
       "      <th></th>\n",
       "      <th>Ned</th>\n",
       "      <th>bh</th>\n",
       "      <th>fck</th>\n",
       "      <th>l0</th>\n",
       "      <th>rho</th>\n",
       "    </tr>\n",
       "  </thead>\n",
       "  <tbody>\n",
       "    <tr>\n",
       "      <th>0</th>\n",
       "      <td>100000</td>\n",
       "      <td>250</td>\n",
       "      <td>20</td>\n",
       "      <td>2581.442640</td>\n",
       "      <td>0.004800</td>\n",
       "    </tr>\n",
       "    <tr>\n",
       "      <th>3</th>\n",
       "      <td>100000</td>\n",
       "      <td>275</td>\n",
       "      <td>20</td>\n",
       "      <td>3058.216260</td>\n",
       "      <td>0.003967</td>\n",
       "    </tr>\n",
       "    <tr>\n",
       "      <th>6</th>\n",
       "      <td>100000</td>\n",
       "      <td>300</td>\n",
       "      <td>20</td>\n",
       "      <td>3579.266366</td>\n",
       "      <td>0.003333</td>\n",
       "    </tr>\n",
       "    <tr>\n",
       "      <th>9</th>\n",
       "      <td>100000</td>\n",
       "      <td>325</td>\n",
       "      <td>20</td>\n",
       "      <td>4144.790181</td>\n",
       "      <td>0.002840</td>\n",
       "    </tr>\n",
       "    <tr>\n",
       "      <th>12</th>\n",
       "      <td>100000</td>\n",
       "      <td>350</td>\n",
       "      <td>20</td>\n",
       "      <td>4754.927524</td>\n",
       "      <td>0.002449</td>\n",
       "    </tr>\n",
       "  </tbody>\n",
       "</table>\n",
       "</div>"
      ],
      "text/plain": [
       "       Ned   bh  fck           l0       rho\n",
       "0   100000  250   20  2581.442640  0.004800\n",
       "3   100000  275   20  3058.216260  0.003967\n",
       "6   100000  300   20  3579.266366  0.003333\n",
       "9   100000  325   20  4144.790181  0.002840\n",
       "12  100000  350   20  4754.927524  0.002449"
      ]
     },
     "execution_count": 3,
     "metadata": {},
     "output_type": "execute_result"
    }
   ],
   "source": [
    "df = pandas.DataFrame({\n",
    "        \"l0\": l0,\n",
    "        \"Ned\": Ned,\n",
    "        \"fck\": fck,\n",
    "        \"bh\": bh,\n",
    "        \"rho\": rho,\n",
    "    }\n",
    "    )\n",
    "print(df.shape)\n",
    "df = df[df[\"fck\"] == 20]\n",
    "print(df.shape)\n",
    "df.head(5)"
   ]
  },
  {
   "cell_type": "code",
   "execution_count": 4,
   "metadata": {
    "collapsed": false
   },
   "outputs": [
    {
     "name": "stdout",
     "output_type": "stream",
     "text": [
      "[[ 0.1088725   0.          0.07604   ]\n",
      " [ 0.0877827   0.          0.09626788]\n",
      " [ 0.07174218  0.          0.11837425]\n",
      " ..., \n",
      " [ 0.01866161  0.31010453  0.23207903]\n",
      " [ 0.01210865  0.31010453  0.24847984]\n",
      " [ 0.00842993  0.31010453  0.26624585]]\n"
     ]
    }
   ],
   "source": [
    "# Scale all features by their mean and std-dev to value 0 - 1. This is the correct one.\n",
    "\n",
    "feat_df = df[[ \"rho\", \"Ned\", \"l0\"]]\n",
    "res_df = df[[\"bh\"]]\n",
    "\n",
    "scale_feat = preprocessing.MinMaxScaler()\n",
    "scale_feat.fit(feat_df)\n",
    "print(scale_feat.transform(feat_df))\n",
    "\n",
    "scale_res = preprocessing.MinMaxScaler()\n",
    "scale_res.fit(res_df)\n",
    "df = df.sample(frac=1)\n"
   ]
  },
  {
   "cell_type": "code",
   "execution_count": 5,
   "metadata": {
    "collapsed": false
   },
   "outputs": [
    {
     "name": "stdout",
     "output_type": "stream",
     "text": [
      "(40000, 5) (23168, 5)\n"
     ]
    },
    {
     "data": {
      "text/html": [
       "<div>\n",
       "<table border=\"1\" class=\"dataframe\">\n",
       "  <thead>\n",
       "    <tr style=\"text-align: right;\">\n",
       "      <th></th>\n",
       "      <th>Ned</th>\n",
       "      <th>bh</th>\n",
       "      <th>fck</th>\n",
       "      <th>l0</th>\n",
       "      <th>rho</th>\n",
       "    </tr>\n",
       "  </thead>\n",
       "  <tbody>\n",
       "    <tr>\n",
       "      <th>11005</th>\n",
       "      <td>1150000</td>\n",
       "      <td>375</td>\n",
       "      <td>20</td>\n",
       "      <td>1595.256888</td>\n",
       "      <td>0.002133</td>\n",
       "    </tr>\n",
       "    <tr>\n",
       "      <th>131876</th>\n",
       "      <td>2740000</td>\n",
       "      <td>700</td>\n",
       "      <td>20</td>\n",
       "      <td>3440.676492</td>\n",
       "      <td>0.000612</td>\n",
       "    </tr>\n",
       "    <tr>\n",
       "      <th>81308</th>\n",
       "      <td>2100000</td>\n",
       "      <td>525</td>\n",
       "      <td>20</td>\n",
       "      <td>2243.493717</td>\n",
       "      <td>0.001088</td>\n",
       "    </tr>\n",
       "    <tr>\n",
       "      <th>135511</th>\n",
       "      <td>2790000</td>\n",
       "      <td>575</td>\n",
       "      <td>20</td>\n",
       "      <td>2321.885711</td>\n",
       "      <td>0.000907</td>\n",
       "    </tr>\n",
       "    <tr>\n",
       "      <th>144198</th>\n",
       "      <td>2970000</td>\n",
       "      <td>425</td>\n",
       "      <td>20</td>\n",
       "      <td>1559.574502</td>\n",
       "      <td>0.010796</td>\n",
       "    </tr>\n",
       "    <tr>\n",
       "      <th>146495</th>\n",
       "      <td>310000</td>\n",
       "      <td>775</td>\n",
       "      <td>20</td>\n",
       "      <td>13504.765439</td>\n",
       "      <td>0.003163</td>\n",
       "    </tr>\n",
       "    <tr>\n",
       "      <th>148395</th>\n",
       "      <td>340000</td>\n",
       "      <td>775</td>\n",
       "      <td>20</td>\n",
       "      <td>12837.018658</td>\n",
       "      <td>0.002997</td>\n",
       "    </tr>\n",
       "    <tr>\n",
       "      <th>69770</th>\n",
       "      <td>1940000</td>\n",
       "      <td>500</td>\n",
       "      <td>20</td>\n",
       "      <td>2261.336097</td>\n",
       "      <td>0.003400</td>\n",
       "    </tr>\n",
       "    <tr>\n",
       "      <th>181876</th>\n",
       "      <td>860000</td>\n",
       "      <td>500</td>\n",
       "      <td>20</td>\n",
       "      <td>3190.638569</td>\n",
       "      <td>0.001200</td>\n",
       "    </tr>\n",
       "    <tr>\n",
       "      <th>5024</th>\n",
       "      <td>1070000</td>\n",
       "      <td>700</td>\n",
       "      <td>20</td>\n",
       "      <td>5505.886225</td>\n",
       "      <td>0.000612</td>\n",
       "    </tr>\n",
       "    <tr>\n",
       "      <th>80742</th>\n",
       "      <td>2100000</td>\n",
       "      <td>400</td>\n",
       "      <td>20</td>\n",
       "      <td>1333.184656</td>\n",
       "      <td>0.001875</td>\n",
       "    </tr>\n",
       "    <tr>\n",
       "      <th>176990</th>\n",
       "      <td>800000</td>\n",
       "      <td>275</td>\n",
       "      <td>20</td>\n",
       "      <td>1220.492530</td>\n",
       "      <td>0.009256</td>\n",
       "    </tr>\n",
       "    <tr>\n",
       "      <th>3800</th>\n",
       "      <td>1050000</td>\n",
       "      <td>375</td>\n",
       "      <td>20</td>\n",
       "      <td>1669.494140</td>\n",
       "      <td>0.002133</td>\n",
       "    </tr>\n",
       "    <tr>\n",
       "      <th>113499</th>\n",
       "      <td>250000</td>\n",
       "      <td>475</td>\n",
       "      <td>20</td>\n",
       "      <td>6461.626655</td>\n",
       "      <td>0.008864</td>\n",
       "    </tr>\n",
       "    <tr>\n",
       "      <th>17151</th>\n",
       "      <td>1240000</td>\n",
       "      <td>650</td>\n",
       "      <td>20</td>\n",
       "      <td>4423.515128</td>\n",
       "      <td>0.000710</td>\n",
       "    </tr>\n",
       "  </tbody>\n",
       "</table>\n",
       "</div>"
      ],
      "text/plain": [
       "            Ned   bh  fck            l0       rho\n",
       "11005   1150000  375   20   1595.256888  0.002133\n",
       "131876  2740000  700   20   3440.676492  0.000612\n",
       "81308   2100000  525   20   2243.493717  0.001088\n",
       "135511  2790000  575   20   2321.885711  0.000907\n",
       "144198  2970000  425   20   1559.574502  0.010796\n",
       "146495   310000  775   20  13504.765439  0.003163\n",
       "148395   340000  775   20  12837.018658  0.002997\n",
       "69770   1940000  500   20   2261.336097  0.003400\n",
       "181876   860000  500   20   3190.638569  0.001200\n",
       "5024    1070000  700   20   5505.886225  0.000612\n",
       "80742   2100000  400   20   1333.184656  0.001875\n",
       "176990   800000  275   20   1220.492530  0.009256\n",
       "3800    1050000  375   20   1669.494140  0.002133\n",
       "113499   250000  475   20   6461.626655  0.008864\n",
       "17151   1240000  650   20   4423.515128  0.000710"
      ]
     },
     "execution_count": 5,
     "metadata": {},
     "output_type": "execute_result"
    }
   ],
   "source": [
    "split = int(40e3)\n",
    "df_train = df[:split]\n",
    "df_test = df[split:]\n",
    "df_train.head(5)\n",
    "\n",
    "print(df_train.shape, df_test.shape)\n",
    "df_train.head(15)"
   ]
  },
  {
   "cell_type": "code",
   "execution_count": 6,
   "metadata": {
    "collapsed": false
   },
   "outputs": [
    {
     "name": "stdout",
     "output_type": "stream",
     "text": [
      "Training features:\n",
      " rho, Ned, l0\n",
      "\n",
      "[[ 0.04136284  0.36585366  0.03419951]\n",
      " [ 0.00285478  0.91986063  0.11249436]\n",
      " [ 0.01491007  0.69686411  0.06170198]\n",
      " [ 0.01032626  0.93728223  0.06502789]\n",
      " [ 0.26066411  1.          0.03268563]]\n",
      "\n",
      "Training labels:\n",
      " bh\n",
      "\n",
      "[375 700 525 575 425]\n",
      "\n",
      "Training data: (40000, 3) (40000,)\n",
      "\n",
      "Testing data: (23168, 3) (23168,)\n"
     ]
    }
   ],
   "source": [
    "train_feat = scale_feat.transform(df_train[[\"rho\", \"Ned\", \"l0\"]])\n",
    "train_label = df_train[\"bh\"].as_matrix()\n",
    "test_feat = scale_feat.transform(df_test[[\"rho\", \"Ned\", \"l0\"]])\n",
    "test_label = df_test[\"bh\"].as_matrix()\n",
    "\n",
    "print(\"Training features:\\n rho, Ned, l0\\n\")\n",
    "print(train_feat[:5])\n",
    "\n",
    "print(\"\\nTraining labels:\\n bh\\n\")\n",
    "print(train_label[:5])\n",
    "\n",
    "\n",
    "print(\"\\nTraining data:\", train_feat.shape, train_label.shape)\n",
    "print(\"\\nTesting data:\", test_feat.shape, test_label.shape)\n",
    "\n"
   ]
  },
  {
   "cell_type": "code",
   "execution_count": 7,
   "metadata": {
    "collapsed": false
   },
   "outputs": [],
   "source": [
    "X = train_feat\n",
    "y = train_label\n",
    "y = np.reshape(y, y.shape[0])"
   ]
  },
  {
   "cell_type": "code",
   "execution_count": 1,
   "metadata": {
    "collapsed": false
   },
   "outputs": [],
   "source": [
    "m = MLPRegressor(max_iter=300, learning_rate=\"adaptive\", verbose=True, early_stopping=True)\n",
    "m.fit(X, y)"
   ]
  },
  {
   "cell_type": "code",
   "execution_count": 9,
   "metadata": {
    "collapsed": false
   },
   "outputs": [
    {
     "name": "stderr",
     "output_type": "stream",
     "text": [
      "C:\\Anaconda3\\lib\\site-packages\\sklearn\\neural_network\\multilayer_perceptron.py:563: ConvergenceWarning: Stochastic Optimizer: Maximum iterations reached and the optimization hasn't converged yet.\n",
      "  % (), ConvergenceWarning)\n",
      "C:\\Anaconda3\\lib\\site-packages\\sklearn\\neural_network\\multilayer_perceptron.py:563: ConvergenceWarning: Stochastic Optimizer: Maximum iterations reached and the optimization hasn't converged yet.\n",
      "  % (), ConvergenceWarning)\n",
      "C:\\Anaconda3\\lib\\site-packages\\sklearn\\neural_network\\multilayer_perceptron.py:563: ConvergenceWarning: Stochastic Optimizer: Maximum iterations reached and the optimization hasn't converged yet.\n",
      "  % (), ConvergenceWarning)\n",
      "C:\\Anaconda3\\lib\\site-packages\\sklearn\\neural_network\\multilayer_perceptron.py:563: ConvergenceWarning: Stochastic Optimizer: Maximum iterations reached and the optimization hasn't converged yet.\n",
      "  % (), ConvergenceWarning)\n",
      "C:\\Anaconda3\\lib\\site-packages\\sklearn\\neural_network\\multilayer_perceptron.py:563: ConvergenceWarning: Stochastic Optimizer: Maximum iterations reached and the optimization hasn't converged yet.\n",
      "  % (), ConvergenceWarning)\n",
      "C:\\Anaconda3\\lib\\site-packages\\sklearn\\neural_network\\multilayer_perceptron.py:563: ConvergenceWarning: Stochastic Optimizer: Maximum iterations reached and the optimization hasn't converged yet.\n",
      "  % (), ConvergenceWarning)\n",
      "C:\\Anaconda3\\lib\\site-packages\\sklearn\\neural_network\\multilayer_perceptron.py:563: ConvergenceWarning: Stochastic Optimizer: Maximum iterations reached and the optimization hasn't converged yet.\n",
      "  % (), ConvergenceWarning)\n",
      "C:\\Anaconda3\\lib\\site-packages\\sklearn\\neural_network\\multilayer_perceptron.py:563: ConvergenceWarning: Stochastic Optimizer: Maximum iterations reached and the optimization hasn't converged yet.\n",
      "  % (), ConvergenceWarning)\n",
      "C:\\Anaconda3\\lib\\site-packages\\sklearn\\neural_network\\multilayer_perceptron.py:563: ConvergenceWarning: Stochastic Optimizer: Maximum iterations reached and the optimization hasn't converged yet.\n",
      "  % (), ConvergenceWarning)\n",
      "C:\\Anaconda3\\lib\\site-packages\\sklearn\\neural_network\\multilayer_perceptron.py:563: ConvergenceWarning: Stochastic Optimizer: Maximum iterations reached and the optimization hasn't converged yet.\n",
      "  % (), ConvergenceWarning)\n",
      "C:\\Anaconda3\\lib\\site-packages\\sklearn\\neural_network\\multilayer_perceptron.py:563: ConvergenceWarning: Stochastic Optimizer: Maximum iterations reached and the optimization hasn't converged yet.\n",
      "  % (), ConvergenceWarning)\n",
      "C:\\Anaconda3\\lib\\site-packages\\sklearn\\neural_network\\multilayer_perceptron.py:563: ConvergenceWarning: Stochastic Optimizer: Maximum iterations reached and the optimization hasn't converged yet.\n",
      "  % (), ConvergenceWarning)\n",
      "C:\\Anaconda3\\lib\\site-packages\\sklearn\\neural_network\\multilayer_perceptron.py:563: ConvergenceWarning: Stochastic Optimizer: Maximum iterations reached and the optimization hasn't converged yet.\n",
      "  % (), ConvergenceWarning)\n",
      "C:\\Anaconda3\\lib\\site-packages\\sklearn\\neural_network\\multilayer_perceptron.py:563: ConvergenceWarning: Stochastic Optimizer: Maximum iterations reached and the optimization hasn't converged yet.\n",
      "  % (), ConvergenceWarning)\n",
      "C:\\Anaconda3\\lib\\site-packages\\sklearn\\neural_network\\multilayer_perceptron.py:563: ConvergenceWarning: Stochastic Optimizer: Maximum iterations reached and the optimization hasn't converged yet.\n",
      "  % (), ConvergenceWarning)\n"
     ]
    },
    {
     "data": {
      "image/png": "[encoded data removed]",
      "text/plain": [
       "<matplotlib.figure.Figure at 0x2ae38a9588>"
      ]
     },
     "metadata": {},
     "output_type": "display_data"
    }
   ],
   "source": [
    "                                             \n",
    "def plot_learning_curve(estimator, title, X, y, ylim=None, cv=None,\n",
    "                        n_jobs=1, train_sizes=np.linspace(.1, 1.0, 5)):\n",
    "    \"\"\"\n",
    "    Generate a simple plot of the test and training learning curve.\n",
    "\n",
    "    Parameters\n",
    "    ----------\n",
    "    estimator : object type that implements the \"fit\" and \"predict\" methods\n",
    "        An object of that type which is cloned for each validation.\n",
    "\n",
    "    title : string\n",
    "        Title for the chart.\n",
    "\n",
    "    X : array-like, shape (n_samples, n_features)\n",
    "        Training vector, where n_samples is the number of samples and\n",
    "        n_features is the number of features.\n",
    "\n",
    "    y : array-like, shape (n_samples) or (n_samples, n_features), optional\n",
    "        Target relative to X for classification or regression;\n",
    "        None for unsupervised learning.\n",
    "\n",
    "    ylim : tuple, shape (ymin, ymax), optional\n",
    "        Defines minimum and maximum yvalues plotted.\n",
    "\n",
    "    cv : int, cross-validation generator or an iterable, optional\n",
    "        Determines the cross-validation splitting strategy.\n",
    "        Possible inputs for cv are:\n",
    "          - None, to use the default 3-fold cross-validation,\n",
    "          - integer, to specify the number of folds.\n",
    "          - An object to be used as a cross-validation generator.\n",
    "          - An iterable yielding train/test splits.\n",
    "\n",
    "        For integer/None inputs, if ``y`` is binary or multiclass,\n",
    "        :class:`StratifiedKFold` used. If the estimator is not a classifier\n",
    "        or if ``y`` is neither binary nor multiclass, :class:`KFold` is used.\n",
    "\n",
    "        Refer :ref:`User Guide <cross_validation>` for the various\n",
    "        cross-validators that can be used here.\n",
    "\n",
    "    n_jobs : integer, optional\n",
    "        Number of jobs to run in parallel (default 1).\n",
    "    \"\"\"\n",
    "    plt.figure()\n",
    "    plt.title(title)\n",
    "    if ylim is not None:\n",
    "        plt.ylim(*ylim)\n",
    "    plt.xlabel(\"Training examples\")\n",
    "    plt.ylabel(\"Score\")\n",
    "    train_sizes, train_scores, test_scores = learning_curve(\n",
    "        estimator, X, y, cv=cv, n_jobs=n_jobs, train_sizes=train_sizes)\n",
    "    train_scores_mean = np.mean(train_scores, axis=1)\n",
    "    train_scores_std = np.std(train_scores, axis=1)\n",
    "    test_scores_mean = np.mean(test_scores, axis=1)\n",
    "    test_scores_std = np.std(test_scores, axis=1)\n",
    "    plt.grid()\n",
    "\n",
    "    plt.fill_between(train_sizes, train_scores_mean - train_scores_std,\n",
    "                     train_scores_mean + train_scores_std, alpha=0.1,\n",
    "                     color=\"r\")\n",
    "    plt.fill_between(train_sizes, test_scores_mean - test_scores_std,\n",
    "                     test_scores_mean + test_scores_std, alpha=0.1, color=\"g\")\n",
    "    plt.plot(train_sizes, train_scores_mean, 'o-', color=\"r\",\n",
    "             label=\"Training score\")\n",
    "    plt.plot(train_sizes, test_scores_mean, 'o-', color=\"g\",\n",
    "             label=\"Cross-validation score\")\n",
    "\n",
    "    plt.legend(loc=\"best\")\n",
    "    return plt\n",
    "\n",
    "plot_learning_curve(MLPRegressor(), \"learning curve\", X[:int(1e4)], y[:int(1e4)])\n",
    "plt.show()"
   ]
  },
  {
   "cell_type": "code",
   "execution_count": 14,
   "metadata": {
    "collapsed": false
   },
   "outputs": [
    {
     "name": "stdout",
     "output_type": "stream",
     "text": [
      "Prediction : 401 Computed:  400 Deviation: -0.0%\n",
      "Prediction : 721 Computed:  725 Deviation: 1.0%\n",
      "Prediction : 374 Computed:  375 Deviation: 0.0%\n",
      "Prediction : 381 Computed:  375 Deviation: -2.0%\n",
      "Prediction : 370 Computed:  375 Deviation: 1.0%\n",
      "Prediction : 722 Computed:  725 Deviation: 0.0%\n",
      "Prediction : 595 Computed:  600 Deviation: 1.0%\n",
      "Prediction : 541 Computed:  550 Deviation: 2.0%\n",
      "Prediction : 495 Computed:  500 Deviation: 1.0%\n",
      "Prediction : 673 Computed:  675 Deviation: 0.0%\n"
     ]
    }
   ],
   "source": [
    "# Test\n",
    "test_feat = scale_feat.transform(df_test[[\"rho\", \"Ned\", \"l0\"]])\n",
    "test_res = df_test[[\"bh\"]].as_matrix()\n",
    "\n",
    "pred = m.predict(test_feat)\n",
    "\n",
    "for i in range(10):\n",
    "    print(\"Prediction :\", int(pred[i]), \"Computed: \", test_res[i][0], \"Deviation: %s%%\" % (round(1 - (pred[i] / test_res[i])[0], 2) * 100)) "
   ]
  },
  {
   "cell_type": "code",
   "execution_count": 15,
   "metadata": {
    "collapsed": false
   },
   "outputs": [
    {
     "name": "stdout",
     "output_type": "stream",
     "text": [
      "Total accuracy 98.7%\n"
     ]
    }
   ],
   "source": [
    "dev = 0\n",
    "for i in range(pred.shape[0]):\n",
    "    dev += abs(1 - (pred[i] / test_res[i])[0])\n",
    "\n",
    "print(\"Total accuracy %s%%\" % (100 - round(dev / pred.shape[0] * 100, 2)))\n"
   ]
  },
  {
   "cell_type": "code",
   "execution_count": 12,
   "metadata": {
    "collapsed": false
   },
   "outputs": [
    {
     "name": "stdout",
     "output_type": "stream",
     "text": [
      "       Ned    l0     rho\n",
      "0  2250000  5000  0.0005\n",
      "1        0     0  0.0000\n",
      "\n",
      "Prediction: [ 815.99110285]\n",
      "ylim [ 26.41688744]\n",
      "y [ 21.20121156]\n"
     ]
    }
   ],
   "source": [
    "input = {\n",
    "    \"rho\": [0.0005],\n",
    "    \"Ned\": [2250e3],\n",
    "    \"l0\": [5e3],\n",
    "}\n",
    "\n",
    "for i in input:\n",
    "    input[i].append(0)\n",
    "\n",
    "inp = pandas.DataFrame(input)\n",
    "print(inp.head())\n",
    "\n",
    "X = scale_feat.transform(inp[[\"rho\", \"Ned\", \"l0\"]])\n",
    "print(\"\\nPrediction:\", m.predict(X)[:-1])\n",
    "\n",
    "h = m.predict(X)[:-1]\n",
    "ac = h**2\n",
    "as_ = ac * input[\"rho\"][0]\n",
    "\n",
    "\n",
    "n = input[\"Ned\"][0] / (ac * 20 + as_ * 435)\n",
    "ylim = 10.8 / n**0.5\n",
    "\n",
    "print(\"ylim\", ylim)\n",
    "print(\"y\", input[\"l0\"][0] / ( h / 3.46 ))"
   ]
  }
 ],
 "metadata": {
  "kernelspec": {
   "display_name": "Python 3",
   "language": "python",
   "name": "python3"
  },
  "language_info": {
   "codemirror_mode": {
    "name": "ipython",
    "version": 3
   },
   "file_extension": ".py",
   "mimetype": "text/x-python",
   "name": "python",
   "nbconvert_exporter": "python",
   "pygments_lexer": "ipython3",
   "version": "3.5.2"
  },
  "latex_envs": {
   "bibliofile": "biblio.bib",
   "cite_by": "apalike",
   "current_citInitial": 1,
   "eqLabelWithNumbers": true,
   "eqNumInitial": 0
  }
 },
 "nbformat": 4,
 "nbformat_minor": 2
}
