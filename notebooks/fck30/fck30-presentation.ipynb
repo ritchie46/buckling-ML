{
 "cells": [
  {
   "cell_type": "code",
   "execution_count": 2,
   "metadata": {
    "collapsed": false,
    "run_control": {
     "marked": false
    }
   },
   "outputs": [],
   "source": [
    "import os\n",
    "import json\n",
    "import pandas\n",
    "import numpy as np\n",
    "from sklearn import preprocessing\n",
    "from sklearn.model_selection import train_test_split\n",
    "from sklearn.linear_model import LinearRegression\n",
    "from sklearn.neural_network import MLPRegressor\n",
    "import tensorflow as tf\n",
    "import matplotlib.pyplot as plt\n",
    "from sklearn.model_selection import learning_curve\n",
    "from sklearn.externals import joblib\n",
    "% matplotlib inline"
   ]
  },
  {
   "cell_type": "code",
   "execution_count": 3,
   "metadata": {
    "collapsed": false
   },
   "outputs": [
    {
     "name": "stdout",
     "output_type": "stream",
     "text": [
      "24359.297950619693 762.303562599071\n"
     ]
    }
   ],
   "source": [
    "Ned = []\n",
    "Med = []\n",
    "NRd = []\n",
    "MRd = []\n",
    "fck = []\n",
    "As = []\n",
    "bh = []\n",
    "a = []\n",
    "xu = []\n",
    "l0 = []\n",
    "listdir = os.listdir(\"../../data_set/buckling\")\n",
    "\n",
    "\n",
    "for file in listdir:\n",
    "    f = open(\"../../data_set/buckling/\" + file)\n",
    "    d = json.loads(f.read())\n",
    "    f.close()\n",
    "\n",
    "    for o in d:\n",
    "        Ned.append(o[\"Ned\"])\n",
    "        #Med.append(o[\"Med\"])\n",
    "        #NRd.append(o[\"NRd\"])\n",
    "        #MRd.append(o[\"MRd\"])\n",
    "        fck.append(o[\"fck\"])\n",
    "        As.append(o[\"As\"])\n",
    "        bh.append(o[\"bh\"])\n",
    "        #a.append(o[\"a\"])\n",
    "        #xu.append(o[\"xu\"])\n",
    "        l0.append(o[\"l0\"])\n",
    "\n",
    "rho = []\n",
    "for i in range(len(As)):\n",
    "    rho.append(As[i] / bh[i]**2)\n",
    "print(max(l0), min(l0))"
   ]
  },
  {
   "cell_type": "code",
   "execution_count": 4,
   "metadata": {
    "collapsed": false
   },
   "outputs": [
    {
     "name": "stdout",
     "output_type": "stream",
     "text": [
      "(195333, 5)\n",
      "(66540, 5)\n"
     ]
    },
    {
     "data": {
      "text/html": [
       "<div>\n",
       "<table border=\"1\" class=\"dataframe\">\n",
       "  <thead>\n",
       "    <tr style=\"text-align: right;\">\n",
       "      <th></th>\n",
       "      <th>Ned</th>\n",
       "      <th>bh</th>\n",
       "      <th>fck</th>\n",
       "      <th>l0</th>\n",
       "      <th>rho</th>\n",
       "    </tr>\n",
       "  </thead>\n",
       "  <tbody>\n",
       "    <tr>\n",
       "      <th>110628</th>\n",
       "      <td>2460000</td>\n",
       "      <td>425</td>\n",
       "      <td>30</td>\n",
       "      <td>1664.641867</td>\n",
       "      <td>0.001661</td>\n",
       "    </tr>\n",
       "    <tr>\n",
       "      <th>105037</th>\n",
       "      <td>240000</td>\n",
       "      <td>250</td>\n",
       "      <td>30</td>\n",
       "      <td>2435.330199</td>\n",
       "      <td>0.020000</td>\n",
       "    </tr>\n",
       "    <tr>\n",
       "      <th>67850</th>\n",
       "      <td>1930000</td>\n",
       "      <td>275</td>\n",
       "      <td>30</td>\n",
       "      <td>996.295962</td>\n",
       "      <td>0.016529</td>\n",
       "    </tr>\n",
       "    <tr>\n",
       "      <th>65923</th>\n",
       "      <td>1900000</td>\n",
       "      <td>450</td>\n",
       "      <td>30</td>\n",
       "      <td>2115.789129</td>\n",
       "      <td>0.001481</td>\n",
       "    </tr>\n",
       "    <tr>\n",
       "      <th>31969</th>\n",
       "      <td>1410000</td>\n",
       "      <td>675</td>\n",
       "      <td>30</td>\n",
       "      <td>5432.412815</td>\n",
       "      <td>0.000658</td>\n",
       "    </tr>\n",
       "  </tbody>\n",
       "</table>\n",
       "</div>"
      ],
      "text/plain": [
       "            Ned   bh  fck           l0       rho\n",
       "110628  2460000  425   30  1664.641867  0.001661\n",
       "105037   240000  250   30  2435.330199  0.020000\n",
       "67850   1930000  275   30   996.295962  0.016529\n",
       "65923   1900000  450   30  2115.789129  0.001481\n",
       "31969   1410000  675   30  5432.412815  0.000658"
      ]
     },
     "execution_count": 4,
     "metadata": {},
     "output_type": "execute_result"
    }
   ],
   "source": [
    "\n",
    "df = pandas.DataFrame({\n",
    "        \"l0\": l0,\n",
    "        \"Ned\": Ned,\n",
    "        #\"Med\": Med,\n",
    "        \"fck\": fck,\n",
    "        \"bh\": bh,\n",
    "        \"rho\": rho,\n",
    "    }\n",
    "    )\n",
    "print(df.shape)\n",
    "df = df[df[\"fck\"] == 30]\n",
    "print(df.shape)\n",
    "\n",
    "df.sample(n=5).head(5)"
   ]
  },
  {
   "cell_type": "code",
   "execution_count": 5,
   "metadata": {
    "collapsed": false
   },
   "outputs": [
    {
     "name": "stdout",
     "output_type": "stream",
     "text": [
      "[[ 0.1088725   0.          0.10326064]\n",
      " [ 0.0877827   0.          0.12979905]\n",
      " [ 0.0858067   0.          0.16087018]\n",
      " ..., \n",
      " [ 0.03070257  0.31010453  0.31365801]\n",
      " [ 0.03911252  0.31010453  0.34063085]\n",
      " [ 0.04636459  0.31010453  0.36839037]]\n"
     ]
    }
   ],
   "source": [
    "# Scale all features by their mean and std-dev to value 0 - 1. This is the correct one.\n",
    "\n",
    "feat_df = df[[\"rho\", \"Ned\", \"l0\"]]\n",
    "res_df = df[[\"bh\"]]\n",
    "\n",
    "scale_feat = preprocessing.MinMaxScaler()\n",
    "scale_feat.fit(feat_df)\n",
    "print(scale_feat.transform(feat_df))\n"
   ]
  },
  {
   "cell_type": "code",
   "execution_count": 6,
   "metadata": {
    "collapsed": false
   },
   "outputs": [
    {
     "name": "stdout",
     "output_type": "stream",
     "text": [
      "(40000, 5) (26540, 5)\n"
     ]
    }
   ],
   "source": [
    "df = df.sample(frac=1)\n",
    "split = int(40e3)\n",
    "\n",
    "df_train = df[:split]\n",
    "df_test = df[split:]\n",
    "df_train.head(5)\n",
    "\n",
    "print(df_train.shape, df_test.shape)"
   ]
  },
  {
   "cell_type": "code",
   "execution_count": 7,
   "metadata": {
    "collapsed": false
   },
   "outputs": [
    {
     "name": "stdout",
     "output_type": "stream",
     "text": [
      "Training features:\n",
      " rho, Ned, l0\n",
      "\n",
      "[[ 0.01032626  0.83275261  0.10091735]\n",
      " [ 0.00845188  0.65156794  0.13116   ]\n",
      " [ 0.35176711  0.09756098  0.20285768]\n",
      " [ 0.11393572  0.10801394  0.14047261]\n",
      " [ 0.01032626  0.92682927  0.0940902 ]]\n",
      "\n",
      "Training labels:\n",
      " bh\n",
      "\n",
      "[[575]\n",
      " [600]\n",
      " [425]\n",
      " [400]\n",
      " [575]]\n",
      "(40000, 3)\n"
     ]
    }
   ],
   "source": [
    "train_feat = scale_feat.transform(df_train[[\"rho\", \"Ned\", \"l0\"]])\n",
    "train_res = df_train[[\"bh\"]].as_matrix()\n",
    "\n",
    "test_feat = scale_feat.transform(df_test[[\"rho\", \"Ned\", \"l0\"]])\n",
    "test_res = df_test[[\"bh\"]].as_matrix()\n",
    "\n",
    "print(\"Training features:\\n rho, Ned, l0\\n\")\n",
    "print(train_feat[:5])\n",
    "\n",
    "print(\"\\nTraining labels:\\n bh\\n\")\n",
    "print(train_res[:5])\n",
    "print(train_feat.shape)"
   ]
  },
  {
   "cell_type": "code",
   "execution_count": 8,
   "metadata": {
    "collapsed": false
   },
   "outputs": [],
   "source": [
    "X = train_feat\n",
    "y = train_res\n",
    "y = np.reshape(y, y.shape[0])"
   ]
  },
  {
   "cell_type": "code",
   "execution_count": 9,
   "metadata": {
    "collapsed": false
   },
   "outputs": [],
   "source": [
    "\n",
    "m = joblib.load(\"presentation.pkl\")\n"
   ]
  },
  {
   "cell_type": "code",
   "execution_count": 19,
   "metadata": {
    "collapsed": false
   },
   "outputs": [
    {
     "name": "stdout",
     "output_type": "stream",
     "text": [
      "Prediction : 624 Computed:  625 Deviation: 0.0%\n",
      "Prediction : 237 Computed:  250 Deviation: 5.0%\n",
      "Prediction : 381 Computed:  375 Deviation: -2.0%\n",
      "Prediction : 478 Computed:  475 Deviation: -1.0%\n",
      "Prediction : 385 Computed:  375 Deviation: -3.0%\n",
      "Prediction : 444 Computed:  450 Deviation: 1.0%\n",
      "Prediction : 650 Computed:  650 Deviation: -0.0%\n",
      "Prediction : 572 Computed:  575 Deviation: 0.0%\n",
      "Prediction : 569 Computed:  575 Deviation: 1.0%\n",
      "Prediction : 723 Computed:  725 Deviation: 0.0%\n",
      "Prediction : 501 Computed:  500 Deviation: -0.0%\n",
      "Prediction : 523 Computed:  525 Deviation: 0.0%\n",
      "Prediction : 732 Computed:  725 Deviation: -1.0%\n",
      "Prediction : 697 Computed:  700 Deviation: 0.0%\n",
      "Prediction : 676 Computed:  675 Deviation: -0.0%\n"
     ]
    }
   ],
   "source": [
    "# Test validation\n",
    "\n",
    "pred = m.predict(test_feat)\n",
    "\n",
    "a = df_test[[\"rho\", \"Ned\", \"l0\"]].as_matrix()\n",
    "for i in range(15):\n",
    "    print(\"Prediction :\", int(pred[i]), \"Computed: \", test_res[i][0], \"Deviation: %s%%\" % (round(1 - (pred[i] / test_res[i])[0], 2) * 100)) "
   ]
  },
  {
   "cell_type": "code",
   "execution_count": 11,
   "metadata": {
    "collapsed": false
   },
   "outputs": [
    {
     "name": "stdout",
     "output_type": "stream",
     "text": [
      "Total accuracy 98.85%\n"
     ]
    }
   ],
   "source": [
    "dev = 0\n",
    "for i in range(pred.shape[0]):\n",
    "    dev += abs(1 - (pred[i] / test_res[i])[0])\n",
    "\n",
    "print(\"Total accuracy %s%%\" % (100 - round(dev / pred.shape[0] * 100, 2)))\n"
   ]
  },
  {
   "cell_type": "code",
   "execution_count": 19,
   "metadata": {
    "collapsed": false
   },
   "outputs": [
    {
     "data": {
      "text/plain": [
       "['presentation.pkl']"
      ]
     },
     "execution_count": 19,
     "metadata": {},
     "output_type": "execute_result"
    }
   ],
   "source": [
    "joblib.dump(m, 'presentation.pkl') "
   ]
  },
  {
   "cell_type": "code",
   "execution_count": 18,
   "metadata": {
    "collapsed": false
   },
   "outputs": [
    {
     "name": "stdout",
     "output_type": "stream",
     "text": [
      "       Ned    l0    rho\n",
      "0  2500000  2000  0.004\n",
      "1        0     0  0.000\n",
      "\n",
      "Prediction: [ 455.22283096]\n",
      "\n",
      "\n",
      "ylim [ 14.497982]\n",
      "y [ 15.20134653]\n"
     ]
    }
   ],
   "source": [
    "input = {\n",
    "    \"rho\": [0.004],\n",
    "    \"Ned\": [2500e3],\n",
    "    \"l0\": [2e3],\n",
    "}\n",
    "\n",
    "for i in input:\n",
    "    input[i].append(0)\n",
    "\n",
    "inp = pandas.DataFrame(input)\n",
    "print(inp.head())\n",
    "\n",
    "X = scale_feat.transform(inp[[\"rho\", \"Ned\", \"l0\"]])\n",
    "print(\"\\nPrediction:\", m.predict(X)[:-1])\n",
    "\n",
    "h = m.predict(X)[:-1]\n",
    "ac = h**2\n",
    "as_ = ac * input[\"rho\"][0]\n",
    "\n",
    "\n",
    "n = input[\"Ned\"][0] / (ac * 20 + as_ * 435)\n",
    "ylim = 10.8 / n**0.5\n",
    "\n",
    "print(\"\\n\\nylim\", ylim)\n",
    "print(\"y\", input[\"l0\"][0] / ( h / 3.46 ))"
   ]
  }
 ],
 "metadata": {
  "kernelspec": {
   "display_name": "Python 3",
   "language": "python",
   "name": "python3"
  },
  "language_info": {
   "codemirror_mode": {
    "name": "ipython",
    "version": 3
   },
   "file_extension": ".py",
   "mimetype": "text/x-python",
   "name": "python",
   "nbconvert_exporter": "python",
   "pygments_lexer": "ipython3",
   "version": "3.5.2"
  },
  "latex_envs": {
   "bibliofile": "biblio.bib",
   "cite_by": "apalike",
   "current_citInitial": 1,
   "eqLabelWithNumbers": true,
   "eqNumInitial": 0
  }
 },
 "nbformat": 4,
 "nbformat_minor": 2
}
