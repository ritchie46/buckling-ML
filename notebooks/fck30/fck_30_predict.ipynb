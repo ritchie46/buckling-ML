{
 "cells": [
  {
   "cell_type": "code",
   "execution_count": 6,
   "metadata": {
    "collapsed": false
   },
   "outputs": [],
   "source": [
    "import os\n",
    "import json\n",
    "import pandas\n",
    "import numpy as np\n",
    "import pickle\n",
    "from sklearn import preprocessing\n",
    "from sklearn.model_selection import train_test_split\n",
    "from sklearn.linear_model import LinearRegression\n",
    "from sklearn.neural_network import MLPRegressor\n",
    "import tensorflow as tf\n",
    "import matplotlib.pyplot as plt\n",
    "from sklearn.model_selection import learning_curve\n",
    "from sklearn.externals import joblib\n",
    "% matplotlib inline"
   ]
  },
  {
   "cell_type": "code",
   "execution_count": 57,
   "metadata": {
    "collapsed": false
   },
   "outputs": [
    {
     "name": "stdout",
     "output_type": "stream",
     "text": [
      "(9766650, 6)\n",
      "(3327000, 6)\n",
      "0.04\n"
     ]
    }
   ],
   "source": [
    "Ned = []\n",
    "Med = []\n",
    "NRd = []\n",
    "MRd = []\n",
    "fck = []\n",
    "As = []\n",
    "bh = []\n",
    "a = []\n",
    "xu = []\n",
    "l0 = []\n",
    "listdir = os.listdir(\"../../data_set/buckling\")\n",
    "\n",
    "\n",
    "for file in listdir:\n",
    "    f = open(\"../../data_set/buckling/\" + file)\n",
    "    d = json.loads(f.read())\n",
    "    f.close()\n",
    "\n",
    "    for o in d:\n",
    "        Ned.append(o[\"Ned\"])\n",
    "        Med.append(o[\"Med\"])\n",
    "        NRd.append(o[\"NRd\"])\n",
    "        MRd.append(o[\"MRd\"])\n",
    "        fck.append(o[\"fck\"])\n",
    "        As.append(o[\"As\"])\n",
    "        bh.append(o[\"bh\"])\n",
    "        a.append(o[\"a\"])\n",
    "        xu.append(o[\"xu\"])\n",
    "        l0.append(o[\"l0\"])\n",
    "\n",
    "rho = []\n",
    "for i in range(len(As)):\n",
    "    rho.append(As[i] / bh[i]**2)\n",
    "df = pandas.DataFrame({\n",
    "        \"l0\": l0,\n",
    "        \"Ned\": Ned,\n",
    "        \"MRd\": MRd,\n",
    "        \"fck\": fck,\n",
    "        \"bh\": bh,\n",
    "        \"rho\": rho,\n",
    "    }\n",
    "    )\n",
    "print(df.shape)\n",
    "df = df[df[\"fck\"] == 30]\n",
    "print(df.shape)\n",
    "df.head(5)\n",
    "\n"
   ]
  },
  {
   "cell_type": "code",
   "execution_count": 33,
   "metadata": {
    "collapsed": false
   },
   "outputs": [
    {
     "name": "stdout",
     "output_type": "stream",
     "text": [
      "[[ 0.          0.1088725   0.          0.34693878]\n",
      " [ 0.0043363   0.0877827   0.          0.34693878]\n",
      " [ 0.01404371  0.0858067   0.          0.34693878]\n",
      " ..., \n",
      " [ 0.531571    0.03070257  0.31010453  0.79591837]\n",
      " [ 0.62073354  0.03911252  0.31010453  0.79591837]\n",
      " [ 0.71418745  0.04636459  0.31010453  0.79591837]]\n"
     ]
    }
   ],
   "source": [
    "# Scale all features by their mean and std-dev to value 0 - 1. This is the correct one.\n",
    "\n",
    "feat_df = df[[\"MRd\", \"rho\", \"Ned\", \"l0\"]]\n",
    "res_df = df[[\"bh\"]]\n",
    "\n",
    "scale_feat = preprocessing.MinMaxScaler()\n",
    "scale_feat.fit(feat_df)\n",
    "print(scale_feat.transform(feat_df))\n"
   ]
  },
  {
   "cell_type": "code",
   "execution_count": 8,
   "metadata": {
    "collapsed": false
   },
   "outputs": [],
   "source": [
    "with open(\"scale_fck30.pkl\", \"wb\") as f:\n",
    "    pickle.dump(scale_feat, f)"
   ]
  },
  {
   "cell_type": "code",
   "execution_count": 9,
   "metadata": {
    "collapsed": false
   },
   "outputs": [],
   "source": [
    "m = joblib.load(\"buckling_fck30\")"
   ]
  },
  {
   "cell_type": "code",
   "execution_count": 110,
   "metadata": {
    "collapsed": false
   },
   "outputs": [
    {
     "name": "stdout",
     "output_type": "stream",
     "text": [
      "          Med       Ned       l0       rho\n",
      "0  10000000.0  180000.0  12000.0  0.000833\n",
      "1         0.0       0.0      0.0  0.000000\n",
      "\n",
      " [[-0.02845805  0.00845188  0.02787456  1.02040816]\n",
      " [-0.03846104 -0.01264489 -0.03484321 -0.20408163]]\n",
      "\n",
      "Prediction: [ 303.30655504  266.35765747]\n"
     ]
    }
   ],
   "source": [
    "input = {\n",
    "    \"Med\": [10e6, 0],\n",
    "    \"rho\": [0.000833333333333, 0],\n",
    "    \"Ned\": [180e3, 0],\n",
    "    \"l0\": [12e3, 0],\n",
    "}\n",
    "\n",
    "inp = pandas.DataFrame(input)\n",
    "print(inp.head())\n",
    "\n",
    "X = scale_feat.transform(inp[[\"Med\", \"rho\", \"Ned\", \"l0\"]])\n",
    "\n",
    "print(\"\\n\",X)\n",
    "\n",
    "print(\"\\nPrediction:\", m.predict(X))"
   ]
  },
  {
   "cell_type": "code",
   "execution_count": 41,
   "metadata": {
    "collapsed": false
   },
   "outputs": [
    {
     "data": {
      "text/plain": [
       "array([[ 0.26162867,  0.49367756,  0.31358885,  0.40816327],\n",
       "       [-0.03846104, -0.01264489, -0.03484321, -0.20408163]])"
      ]
     },
     "execution_count": 41,
     "metadata": {},
     "output_type": "execute_result"
    }
   ],
   "source": []
  },
  {
   "cell_type": "code",
   "execution_count": 43,
   "metadata": {
    "collapsed": false
   },
   "outputs": [
    {
     "data": {
      "text/plain": [
       "array([ 321.72197025,  266.35765747])"
      ]
     },
     "execution_count": 43,
     "metadata": {},
     "output_type": "execute_result"
    }
   ],
   "source": []
  },
  {
   "cell_type": "code",
   "execution_count": 28,
   "metadata": {
    "collapsed": false
   },
   "outputs": [
    {
     "data": {
      "text/plain": [
       "['buckling_fck30.pkl']"
      ]
     },
     "execution_count": 28,
     "metadata": {},
     "output_type": "execute_result"
    }
   ],
   "source": [
    "joblib.dump(m, 'buckling_fck30.pkl') "
   ]
  }
 ],
 "metadata": {
  "kernelspec": {
   "display_name": "Python 3",
   "language": "python",
   "name": "python3"
  },
  "language_info": {
   "codemirror_mode": {
    "name": "ipython",
    "version": 3
   },
   "file_extension": ".py",
   "mimetype": "text/x-python",
   "name": "python",
   "nbconvert_exporter": "python",
   "pygments_lexer": "ipython3",
   "version": "3.5.2"
  }
 },
 "nbformat": 4,
 "nbformat_minor": 2
}
