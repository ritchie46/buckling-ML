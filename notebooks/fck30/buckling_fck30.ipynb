{
 "cells": [
  {
   "cell_type": "code",
   "execution_count": 1,
   "metadata": {
    "collapsed": false
   },
   "outputs": [],
   "source": [
    "import os\n",
    "import json\n",
    "import pandas\n",
    "import numpy as np\n",
    "from sklearn import preprocessing\n",
    "from sklearn.model_selection import train_test_split\n",
    "from sklearn.linear_model import LinearRegression\n",
    "from sklearn.neural_network import MLPRegressor\n",
    "import tensorflow as tf\n",
    "import matplotlib.pyplot as plt\n",
    "from sklearn.model_selection import learning_curve\n",
    "from sklearn.externals import joblib\n",
    "% matplotlib inline"
   ]
  },
  {
   "cell_type": "code",
   "execution_count": 2,
   "metadata": {
    "collapsed": false
   },
   "outputs": [],
   "source": [
    "Ned = []\n",
    "Med = []\n",
    "NRd = []\n",
    "MRd = []\n",
    "fck = []\n",
    "As = []\n",
    "bh = []\n",
    "a = []\n",
    "xu = []\n",
    "l0 = []\n",
    "listdir = os.listdir(\"../../data_set/buckling\")\n",
    "\n",
    "\n",
    "for file in listdir:\n",
    "    f = open(\"../../data_set/buckling/\" + file)\n",
    "    d = json.loads(f.read())\n",
    "    f.close()\n",
    "\n",
    "    for o in d:\n",
    "        Ned.append(o[\"Ned\"])\n",
    "        Med.append(o[\"Med\"])\n",
    "        NRd.append(o[\"NRd\"])\n",
    "        MRd.append(o[\"MRd\"])\n",
    "        fck.append(o[\"fck\"])\n",
    "        As.append(o[\"As\"])\n",
    "        bh.append(o[\"bh\"])\n",
    "        a.append(o[\"a\"])\n",
    "        xu.append(o[\"xu\"])\n",
    "        l0.append(o[\"l0\"])\n",
    "\n",
    "rho = []\n",
    "for i in range(len(As)):\n",
    "    rho.append(As[i] / bh[i]**2)"
   ]
  },
  {
   "cell_type": "code",
   "execution_count": 3,
   "metadata": {
    "collapsed": false
   },
   "outputs": [
    {
     "name": "stdout",
     "output_type": "stream",
     "text": [
      "(9766650, 6)\n",
      "(3327000, 6)\n"
     ]
    },
    {
     "data": {
      "text/html": [
       "<div>\n",
       "<table border=\"1\" class=\"dataframe\">\n",
       "  <thead>\n",
       "    <tr style=\"text-align: right;\">\n",
       "      <th></th>\n",
       "      <th>MRd</th>\n",
       "      <th>Ned</th>\n",
       "      <th>bh</th>\n",
       "      <th>fck</th>\n",
       "      <th>l0</th>\n",
       "      <th>rho</th>\n",
       "    </tr>\n",
       "  </thead>\n",
       "  <tbody>\n",
       "    <tr>\n",
       "      <th>1</th>\n",
       "      <td>38449546</td>\n",
       "      <td>100000</td>\n",
       "      <td>250</td>\n",
       "      <td>30</td>\n",
       "      <td>5400</td>\n",
       "      <td>0.004800</td>\n",
       "    </tr>\n",
       "    <tr>\n",
       "      <th>4</th>\n",
       "      <td>42784545</td>\n",
       "      <td>100000</td>\n",
       "      <td>275</td>\n",
       "      <td>30</td>\n",
       "      <td>5400</td>\n",
       "      <td>0.003967</td>\n",
       "    </tr>\n",
       "    <tr>\n",
       "      <th>7</th>\n",
       "      <td>52489056</td>\n",
       "      <td>100000</td>\n",
       "      <td>300</td>\n",
       "      <td>30</td>\n",
       "      <td>5400</td>\n",
       "      <td>0.003889</td>\n",
       "    </tr>\n",
       "    <tr>\n",
       "      <th>10</th>\n",
       "      <td>68940078</td>\n",
       "      <td>100000</td>\n",
       "      <td>325</td>\n",
       "      <td>30</td>\n",
       "      <td>5400</td>\n",
       "      <td>0.004260</td>\n",
       "    </tr>\n",
       "    <tr>\n",
       "      <th>13</th>\n",
       "      <td>93396413</td>\n",
       "      <td>100000</td>\n",
       "      <td>350</td>\n",
       "      <td>30</td>\n",
       "      <td>5400</td>\n",
       "      <td>0.004898</td>\n",
       "    </tr>\n",
       "  </tbody>\n",
       "</table>\n",
       "</div>"
      ],
      "text/plain": [
       "         MRd     Ned   bh  fck    l0       rho\n",
       "1   38449546  100000  250   30  5400  0.004800\n",
       "4   42784545  100000  275   30  5400  0.003967\n",
       "7   52489056  100000  300   30  5400  0.003889\n",
       "10  68940078  100000  325   30  5400  0.004260\n",
       "13  93396413  100000  350   30  5400  0.004898"
      ]
     },
     "execution_count": 3,
     "metadata": {},
     "output_type": "execute_result"
    }
   ],
   "source": [
    "df = pandas.DataFrame({\n",
    "        \"l0\": l0,\n",
    "        \"Ned\": Ned,\n",
    "        \"MRd\": MRd,\n",
    "        \"fck\": fck,\n",
    "        \"bh\": bh,\n",
    "        \"rho\": rho,\n",
    "    }\n",
    "    )\n",
    "print(df.shape)\n",
    "df = df[df[\"fck\"] == 30]\n",
    "print(df.shape)\n",
    "df.head(5)"
   ]
  },
  {
   "cell_type": "code",
   "execution_count": 4,
   "metadata": {
    "collapsed": false
   },
   "outputs": [
    {
     "name": "stdout",
     "output_type": "stream",
     "text": [
      "[[ 0.          0.1088725   0.          0.34693878]\n",
      " [ 0.0043363   0.0877827   0.          0.34693878]\n",
      " [ 0.01404371  0.0858067   0.          0.34693878]\n",
      " ..., \n",
      " [ 0.531571    0.03070257  0.31010453  0.79591837]\n",
      " [ 0.62073354  0.03911252  0.31010453  0.79591837]\n",
      " [ 0.71418745  0.04636459  0.31010453  0.79591837]]\n"
     ]
    },
    {
     "data": {
      "text/plain": [
       "MinMaxScaler(copy=True, feature_range=(0, 1))"
      ]
     },
     "execution_count": 4,
     "metadata": {},
     "output_type": "execute_result"
    }
   ],
   "source": [
    "# Scale all features by their mean and std-dev to value 0 - 1. This is the correct one.\n",
    "\n",
    "feat_df = df[[\"MRd\", \"rho\", \"Ned\", \"l0\"]]\n",
    "res_df = df[[\"bh\"]]\n",
    "\n",
    "scale_feat = preprocessing.MinMaxScaler()\n",
    "scale_feat.fit(feat_df)\n",
    "print(scale_feat.transform(feat_df))\n",
    "\n",
    "scale_res = preprocessing.MinMaxScaler()\n",
    "scale_res.fit(res_df)"
   ]
  },
  {
   "cell_type": "code",
   "execution_count": 5,
   "metadata": {
    "collapsed": false
   },
   "outputs": [
    {
     "name": "stdout",
     "output_type": "stream",
     "text": [
      "(2000000, 6) (1327000, 6)\n"
     ]
    }
   ],
   "source": [
    "df = df.sample(frac=1)\n",
    "\n",
    "df_train = df[:int(2e6)]\n",
    "df_test = df[int(2e6):]\n",
    "df_train.head(5)\n",
    "\n",
    "print(df_train.shape, df_test.shape)"
   ]
  },
  {
   "cell_type": "code",
   "execution_count": 6,
   "metadata": {
    "collapsed": false
   },
   "outputs": [
    {
     "name": "stdout",
     "output_type": "stream",
     "text": [
      "Training features:\n",
      " MRd; rho, Ned, l0\n",
      "\n",
      "[[ 0.27008906  0.43167889  0.06968641  0.6122449 ]\n",
      " [ 0.24290567  0.02101644  0.37979094  0.04081633]\n",
      " [ 0.61649052  0.08293639  0.15679443  0.79591837]\n",
      " [ 0.31776161  0.76090329  0.17073171  0.53061224]\n",
      " [ 0.22088634  0.15837958  0.93728223  0.97959184]]\n",
      "\n",
      "Training labels:\n",
      " bh\n",
      "\n",
      "[[350]\n",
      " [475]\n",
      " [700]\n",
      " [300]\n",
      " [375]]\n",
      "(2000000, 4)\n"
     ]
    }
   ],
   "source": [
    "train_feat = scale_feat.transform(df_train[[\"MRd\", \"rho\", \"Ned\", \"l0\"]])\n",
    "train_res = df_train[[\"bh\"]].as_matrix()\n",
    "\n",
    "print(\"Training features:\\n MRd; rho, Ned, l0\\n\")\n",
    "print(train_feat[:5])\n",
    "\n",
    "print(\"\\nTraining labels:\\n bh\\n\")\n",
    "print(train_res[:5])\n",
    "print(train_feat.shape)"
   ]
  },
  {
   "cell_type": "code",
   "execution_count": 7,
   "metadata": {
    "collapsed": false
   },
   "outputs": [],
   "source": [
    "X = train_feat\n",
    "y = train_res\n",
    "y = np.reshape(y, y.shape[0])"
   ]
  },
  {
   "cell_type": "code",
   "execution_count": 8,
   "metadata": {
    "collapsed": false
   },
   "outputs": [],
   "source": [
    "try:\n",
    "    m = joblib.load(\"buckling_fck30\")\n",
    "except FileNotFoundError:\n",
    "    m = MLPRegressor(max_iter=8000, learning_rate=\"adaptive\", verbose=True, early_stopping=True)\n",
    "    m.fit(X, y)"
   ]
  },
  {
   "cell_type": "code",
   "execution_count": 12,
   "metadata": {
    "collapsed": false
   },
   "outputs": [
    {
     "name": "stderr",
     "output_type": "stream",
     "text": [
      "/usr/local/lib/python3.5/dist-packages/sklearn/neural_network/multilayer_perceptron.py:563: ConvergenceWarning: Stochastic Optimizer: Maximum iterations reached and the optimization hasn't converged yet.\n",
      "  % (), ConvergenceWarning)\n",
      "/usr/local/lib/python3.5/dist-packages/sklearn/neural_network/multilayer_perceptron.py:563: ConvergenceWarning: Stochastic Optimizer: Maximum iterations reached and the optimization hasn't converged yet.\n",
      "  % (), ConvergenceWarning)\n",
      "/usr/local/lib/python3.5/dist-packages/sklearn/neural_network/multilayer_perceptron.py:563: ConvergenceWarning: Stochastic Optimizer: Maximum iterations reached and the optimization hasn't converged yet.\n",
      "  % (), ConvergenceWarning)\n",
      "/usr/local/lib/python3.5/dist-packages/sklearn/neural_network/multilayer_perceptron.py:563: ConvergenceWarning: Stochastic Optimizer: Maximum iterations reached and the optimization hasn't converged yet.\n",
      "  % (), ConvergenceWarning)\n",
      "/usr/local/lib/python3.5/dist-packages/sklearn/neural_network/multilayer_perceptron.py:563: ConvergenceWarning: Stochastic Optimizer: Maximum iterations reached and the optimization hasn't converged yet.\n",
      "  % (), ConvergenceWarning)\n",
      "/usr/local/lib/python3.5/dist-packages/sklearn/neural_network/multilayer_perceptron.py:563: ConvergenceWarning: Stochastic Optimizer: Maximum iterations reached and the optimization hasn't converged yet.\n",
      "  % (), ConvergenceWarning)\n",
      "/usr/local/lib/python3.5/dist-packages/sklearn/neural_network/multilayer_perceptron.py:563: ConvergenceWarning: Stochastic Optimizer: Maximum iterations reached and the optimization hasn't converged yet.\n",
      "  % (), ConvergenceWarning)\n",
      "/usr/local/lib/python3.5/dist-packages/sklearn/neural_network/multilayer_perceptron.py:563: ConvergenceWarning: Stochastic Optimizer: Maximum iterations reached and the optimization hasn't converged yet.\n",
      "  % (), ConvergenceWarning)\n",
      "/usr/local/lib/python3.5/dist-packages/sklearn/neural_network/multilayer_perceptron.py:563: ConvergenceWarning: Stochastic Optimizer: Maximum iterations reached and the optimization hasn't converged yet.\n",
      "  % (), ConvergenceWarning)\n",
      "/usr/local/lib/python3.5/dist-packages/sklearn/neural_network/multilayer_perceptron.py:563: ConvergenceWarning: Stochastic Optimizer: Maximum iterations reached and the optimization hasn't converged yet.\n",
      "  % (), ConvergenceWarning)\n",
      "/usr/local/lib/python3.5/dist-packages/sklearn/neural_network/multilayer_perceptron.py:563: ConvergenceWarning: Stochastic Optimizer: Maximum iterations reached and the optimization hasn't converged yet.\n",
      "  % (), ConvergenceWarning)\n",
      "/usr/local/lib/python3.5/dist-packages/sklearn/neural_network/multilayer_perceptron.py:563: ConvergenceWarning: Stochastic Optimizer: Maximum iterations reached and the optimization hasn't converged yet.\n",
      "  % (), ConvergenceWarning)\n",
      "/usr/local/lib/python3.5/dist-packages/sklearn/neural_network/multilayer_perceptron.py:563: ConvergenceWarning: Stochastic Optimizer: Maximum iterations reached and the optimization hasn't converged yet.\n",
      "  % (), ConvergenceWarning)\n",
      "/usr/local/lib/python3.5/dist-packages/sklearn/neural_network/multilayer_perceptron.py:563: ConvergenceWarning: Stochastic Optimizer: Maximum iterations reached and the optimization hasn't converged yet.\n",
      "  % (), ConvergenceWarning)\n",
      "/usr/local/lib/python3.5/dist-packages/sklearn/neural_network/multilayer_perceptron.py:563: ConvergenceWarning: Stochastic Optimizer: Maximum iterations reached and the optimization hasn't converged yet.\n",
      "  % (), ConvergenceWarning)\n"
     ]
    },
    {
     "data": {
      "image/png": "[encoded data removed]",
      "text/plain": [
       "<matplotlib.figure.Figure at 0x7fe0ecd299b0>"
      ]
     },
     "metadata": {},
     "output_type": "display_data"
    }
   ],
   "source": [
    "                                             \n",
    "def plot_learning_curve(estimator, title, X, y, ylim=None, cv=None,\n",
    "                        n_jobs=1, train_sizes=np.linspace(.1, 1.0, 5)):\n",
    "    \"\"\"\n",
    "    Generate a simple plot of the test and training learning curve.\n",
    "\n",
    "    Parameters\n",
    "    ----------\n",
    "    estimator : object type that implements the \"fit\" and \"predict\" methods\n",
    "        An object of that type which is cloned for each validation.\n",
    "\n",
    "    title : string\n",
    "        Title for the chart.\n",
    "\n",
    "    X : array-like, shape (n_samples, n_features)\n",
    "        Training vector, where n_samples is the number of samples and\n",
    "        n_features is the number of features.\n",
    "\n",
    "    y : array-like, shape (n_samples) or (n_samples, n_features), optional\n",
    "        Target relative to X for classification or regression;\n",
    "        None for unsupervised learning.\n",
    "\n",
    "    ylim : tuple, shape (ymin, ymax), optional\n",
    "        Defines minimum and maximum yvalues plotted.\n",
    "\n",
    "    cv : int, cross-validation generator or an iterable, optional\n",
    "        Determines the cross-validation splitting strategy.\n",
    "        Possible inputs for cv are:\n",
    "          - None, to use the default 3-fold cross-validation,\n",
    "          - integer, to specify the number of folds.\n",
    "          - An object to be used as a cross-validation generator.\n",
    "          - An iterable yielding train/test splits.\n",
    "\n",
    "        For integer/None inputs, if ``y`` is binary or multiclass,\n",
    "        :class:`StratifiedKFold` used. If the estimator is not a classifier\n",
    "        or if ``y`` is neither binary nor multiclass, :class:`KFold` is used.\n",
    "\n",
    "        Refer :ref:`User Guide <cross_validation>` for the various\n",
    "        cross-validators that can be used here.\n",
    "\n",
    "    n_jobs : integer, optional\n",
    "        Number of jobs to run in parallel (default 1).\n",
    "    \"\"\"\n",
    "    plt.figure()\n",
    "    plt.title(title)\n",
    "    if ylim is not None:\n",
    "        plt.ylim(*ylim)\n",
    "    plt.xlabel(\"Training examples\")\n",
    "    plt.ylabel(\"Score\")\n",
    "    train_sizes, train_scores, test_scores = learning_curve(\n",
    "        estimator, X, y, cv=cv, n_jobs=n_jobs, train_sizes=train_sizes)\n",
    "    train_scores_mean = np.mean(train_scores, axis=1)\n",
    "    train_scores_std = np.std(train_scores, axis=1)\n",
    "    test_scores_mean = np.mean(test_scores, axis=1)\n",
    "    test_scores_std = np.std(test_scores, axis=1)\n",
    "    plt.grid()\n",
    "\n",
    "    plt.fill_between(train_sizes, train_scores_mean - train_scores_std,\n",
    "                     train_scores_mean + train_scores_std, alpha=0.1,\n",
    "                     color=\"r\")\n",
    "    plt.fill_between(train_sizes, test_scores_mean - test_scores_std,\n",
    "                     test_scores_mean + test_scores_std, alpha=0.1, color=\"g\")\n",
    "    plt.plot(train_sizes, train_scores_mean, 'o-', color=\"r\",\n",
    "             label=\"Training score\")\n",
    "    plt.plot(train_sizes, test_scores_mean, 'o-', color=\"g\",\n",
    "             label=\"Cross-validation score\")\n",
    "\n",
    "    plt.legend(loc=\"best\")\n",
    "    return plt\n",
    "\n",
    "plot_learning_curve(MLPRegressor(), \"learning curve\", X[:int(1e4)], y[:int(1e4)])\n",
    "plt.show()"
   ]
  },
  {
   "cell_type": "code",
   "execution_count": 11,
   "metadata": {
    "collapsed": false
   },
   "outputs": [
    {
     "name": "stdout",
     "output_type": "stream",
     "text": [
      "Prediction : 468 Computed:  450 Deviation: -4.0%\n",
      "Prediction : 477 Computed:  475 Deviation: -0.0%\n",
      "Prediction : 701 Computed:  700 Deviation: -0.0%\n",
      "Prediction : 595 Computed:  600 Deviation: 1.0%\n",
      "Prediction : 580 Computed:  575 Deviation: -1.0%\n",
      "Prediction : 598 Computed:  600 Deviation: 0.0%\n",
      "Prediction : 718 Computed:  725 Deviation: 1.0%\n",
      "Prediction : 346 Computed:  350 Deviation: 1.0%\n",
      "Prediction : 602 Computed:  600 Deviation: -0.0%\n",
      "Prediction : 573 Computed:  575 Deviation: 0.0%\n"
     ]
    }
   ],
   "source": [
    "# Test\n",
    "test_feat = scale_feat.transform(df_test[[\"MRd\", \"rho\", \"Ned\", \"l0\"]])\n",
    "test_res = df_test[[\"bh\"]].as_matrix()\n",
    "\n",
    "pred = m.predict(test_feat)\n",
    "\n",
    "for i in range(15):\n",
    "    print(\"Prediction :\", int(pred[i]), \"Computed: \", test_res[i][0], \"Deviation: %s%%\" % (round(1 - (pred[i] / test_res[i])[0], 2) * 100)) "
   ]
  },
  {
   "cell_type": "code",
   "execution_count": 12,
   "metadata": {
    "collapsed": false
   },
   "outputs": [
    {
     "name": "stdout",
     "output_type": "stream",
     "text": [
      "Total accuracy 98.64%\n"
     ]
    }
   ],
   "source": [
    "dev = 0\n",
    "for i in range(pred.shape[0]):\n",
    "    dev += abs(1 - (pred[i] / test_res[i])[0])\n",
    "\n",
    "print(\"Total accuracy %s%%\" % (100 - round(dev / pred.shape[0] * 100, 2)))\n"
   ]
  },
  {
   "cell_type": "code",
   "execution_count": 28,
   "metadata": {
    "collapsed": false
   },
   "outputs": [
    {
     "data": {
      "text/plain": [
       "['buckling_fck30.pkl']"
      ]
     },
     "execution_count": 28,
     "metadata": {},
     "output_type": "execute_result"
    }
   ],
   "source": [
    "joblib.dump(m, 'buckling_fck30.pkl') "
   ]
  }
 ],
 "metadata": {
  "kernelspec": {
   "display_name": "Python 3",
   "language": "python",
   "name": "python3"
  },
  "language_info": {
   "codemirror_mode": {
    "name": "ipython",
    "version": 3
   },
   "file_extension": ".py",
   "mimetype": "text/x-python",
   "name": "python",
   "nbconvert_exporter": "python",
   "pygments_lexer": "ipython3",
   "version": "3.5.2"
  }
 },
 "nbformat": 4,
 "nbformat_minor": 2
}
