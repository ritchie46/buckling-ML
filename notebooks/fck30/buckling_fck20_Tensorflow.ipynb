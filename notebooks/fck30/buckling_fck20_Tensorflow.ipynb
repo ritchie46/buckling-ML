{
 "cells": [
  {
   "cell_type": "code",
   "execution_count": 1,
   "metadata": {
    "collapsed": false
   },
   "outputs": [],
   "source": [
    "import os\n",
    "import json\n",
    "import pandas\n",
    "import numpy as np\n",
    "import pickle\n",
    "from sklearn import preprocessing\n",
    "import tensorflow as tf\n",
    "import matplotlib.pyplot as plt\n",
    "\n",
    "% matplotlib inline"
   ]
  },
  {
   "cell_type": "code",
   "execution_count": 2,
   "metadata": {
    "collapsed": false
   },
   "outputs": [],
   "source": [
    "Ned = []\n",
    "Med = []\n",
    "NRd = []\n",
    "MRd = []\n",
    "fck = []\n",
    "As = []\n",
    "bh = []\n",
    "a = []\n",
    "xu = []\n",
    "l0 = []\n",
    "listdir = os.listdir(\"../../data_set/buckling\")\n",
    "\n",
    "\n",
    "for file in listdir:\n",
    "    f = open(\"../../data_set/buckling/\" + file)\n",
    "    d = json.loads(f.read())\n",
    "    f.close()\n",
    "\n",
    "    for o in d:\n",
    "        Ned.append(o[\"Ned\"])\n",
    "        Med.append(o[\"Med\"])\n",
    "        NRd.append(o[\"NRd\"])\n",
    "        MRd.append(o[\"MRd\"])\n",
    "        fck.append(o[\"fck\"])\n",
    "        As.append(o[\"As\"])\n",
    "        bh.append(o[\"bh\"])\n",
    "        a.append(o[\"a\"])\n",
    "        xu.append(o[\"xu\"])\n",
    "        l0.append(o[\"l0\"])\n",
    "\n",
    "rho = []\n",
    "for i in range(len(As)):\n",
    "    rho.append(As[i] / bh[i]**2)"
   ]
  },
  {
   "cell_type": "code",
   "execution_count": 3,
   "metadata": {
    "collapsed": false
   },
   "outputs": [
    {
     "name": "stdout",
     "output_type": "stream",
     "text": [
      "(9766650, 6)\n",
      "(3158400, 6)\n"
     ]
    },
    {
     "data": {
      "text/html": [
       "<div>\n",
       "<table border=\"1\" class=\"dataframe\">\n",
       "  <thead>\n",
       "    <tr style=\"text-align: right;\">\n",
       "      <th></th>\n",
       "      <th>MRd</th>\n",
       "      <th>Ned</th>\n",
       "      <th>bh</th>\n",
       "      <th>fck</th>\n",
       "      <th>l0</th>\n",
       "      <th>rho</th>\n",
       "    </tr>\n",
       "  </thead>\n",
       "  <tbody>\n",
       "    <tr>\n",
       "      <th>0</th>\n",
       "      <td>37582574</td>\n",
       "      <td>100000</td>\n",
       "      <td>250</td>\n",
       "      <td>20</td>\n",
       "      <td>5400</td>\n",
       "      <td>0.004800</td>\n",
       "    </tr>\n",
       "    <tr>\n",
       "      <th>3</th>\n",
       "      <td>41767891</td>\n",
       "      <td>100000</td>\n",
       "      <td>275</td>\n",
       "      <td>20</td>\n",
       "      <td>5400</td>\n",
       "      <td>0.003967</td>\n",
       "    </tr>\n",
       "    <tr>\n",
       "      <th>6</th>\n",
       "      <td>46007825</td>\n",
       "      <td>100000</td>\n",
       "      <td>300</td>\n",
       "      <td>20</td>\n",
       "      <td>5400</td>\n",
       "      <td>0.003333</td>\n",
       "    </tr>\n",
       "    <tr>\n",
       "      <th>9</th>\n",
       "      <td>50355745</td>\n",
       "      <td>100000</td>\n",
       "      <td>325</td>\n",
       "      <td>20</td>\n",
       "      <td>5400</td>\n",
       "      <td>0.002840</td>\n",
       "    </tr>\n",
       "    <tr>\n",
       "      <th>12</th>\n",
       "      <td>54748450</td>\n",
       "      <td>100000</td>\n",
       "      <td>350</td>\n",
       "      <td>20</td>\n",
       "      <td>5400</td>\n",
       "      <td>0.002449</td>\n",
       "    </tr>\n",
       "  </tbody>\n",
       "</table>\n",
       "</div>"
      ],
      "text/plain": [
       "         MRd     Ned   bh  fck    l0       rho\n",
       "0   37582574  100000  250   20  5400  0.004800\n",
       "3   41767891  100000  275   20  5400  0.003967\n",
       "6   46007825  100000  300   20  5400  0.003333\n",
       "9   50355745  100000  325   20  5400  0.002840\n",
       "12  54748450  100000  350   20  5400  0.002449"
      ]
     },
     "execution_count": 3,
     "metadata": {},
     "output_type": "execute_result"
    }
   ],
   "source": [
    "df = pandas.DataFrame({\n",
    "        \"l0\": l0,\n",
    "        \"Ned\": Ned,\n",
    "        \"MRd\": MRd,\n",
    "        \"fck\": fck,\n",
    "        \"bh\": bh,\n",
    "        \"rho\": rho,\n",
    "    }\n",
    "    )\n",
    "print(df.shape)\n",
    "df = df[df[\"fck\"] == 20]\n",
    "print(df.shape)\n",
    "df.head(5)"
   ]
  },
  {
   "cell_type": "code",
   "execution_count": 4,
   "metadata": {
    "collapsed": false
   },
   "outputs": [
    {
     "name": "stdout",
     "output_type": "stream",
     "text": [
      "[[ 0.          0.1088725   0.          0.34693878]\n",
      " [ 0.00463363  0.0877827   0.          0.34693878]\n",
      " [ 0.00932774  0.07174218  0.          0.34693878]\n",
      " ..., \n",
      " [ 0.49945671  0.01866161  0.31010453  0.79591837]\n",
      " [ 0.49289762  0.01210865  0.31010453  0.79591837]\n",
      " [ 0.49883828  0.00842993  0.31010453  0.79591837]]\n"
     ]
    }
   ],
   "source": [
    "# Scale all features by their mean and std-dev to value 0 - 1. This is the correct one.\n",
    "\n",
    "feat_df = df[[\"MRd\", \"rho\", \"Ned\", \"l0\"]]\n",
    "res_df = df[[\"bh\"]]\n",
    "\n",
    "scale_feat = preprocessing.MinMaxScaler()\n",
    "scale_feat.fit(feat_df)\n",
    "print(scale_feat.transform(feat_df))\n",
    "\n",
    "scale_res = preprocessing.MinMaxScaler()\n",
    "scale_res.fit(res_df)\n",
    "\n",
    "try:\n",
    "    with open(\"rescaled_values_fck20.pkl\", \"rb\") as f:\n",
    "        df = pickle.load(f)\n",
    "        \n",
    "except FileNotFoundError:\n",
    "    df = df.sample(frac=1)\n",
    "    with open(\"rescaled_values_fck20.pkl\", \"wb\") as f:\n",
    "        pickle.dump(df, f)"
   ]
  },
  {
   "cell_type": "code",
   "execution_count": 5,
   "metadata": {
    "collapsed": false
   },
   "outputs": [
    {
     "name": "stdout",
     "output_type": "stream",
     "text": [
      "(1000000, 6) (2158400, 6)\n"
     ]
    }
   ],
   "source": [
    "split = int(1e6)\n",
    "df_train = df[:split]\n",
    "df_test = df[split:]\n",
    "df_train.head(5)\n",
    "\n",
    "print(df_train.shape, df_test.shape)"
   ]
  },
  {
   "cell_type": "code",
   "execution_count": 6,
   "metadata": {
    "collapsed": false
   },
   "outputs": [
    {
     "name": "stdout",
     "output_type": "stream",
     "text": [
      "Training features:\n",
      " MRd; rho, Ned, l0\n",
      "\n",
      "[[ 0.35028971  0.03458409  0.12543554  0.        ]\n",
      " [ 0.29641559  0.2642502   0.09059233  0.46938776]\n",
      " [ 0.58011533  0.00402416  0.60278746  0.28571429]\n",
      " [ 0.44147613  0.19988552  0.74912892  0.93877551]\n",
      " [ 0.06810538  0.05925889  0.43902439  0.42857143]]\n",
      "\n",
      "Training labels:\n",
      " bh\n",
      "\n",
      "[675 400 675 450 325]\n",
      "\n",
      "Training data: (1000000, 4) (1000000,)\n",
      "\n",
      "Testing data: (2158400, 4) (2158400,)\n"
     ]
    }
   ],
   "source": [
    "train_feat = scale_feat.transform(df_train[[\"MRd\", \"rho\", \"Ned\", \"l0\"]])\n",
    "train_label = df_train[\"bh\"].as_matrix()\n",
    "test_feat = scale_feat.transform(df_test[[\"MRd\", \"rho\", \"Ned\", \"l0\"]])\n",
    "test_label = df_test[\"bh\"].as_matrix()\n",
    "\n",
    "print(\"Training features:\\n MRd; rho, Ned, l0\\n\")\n",
    "print(train_feat[:5])\n",
    "\n",
    "print(\"\\nTraining labels:\\n bh\\n\")\n",
    "print(train_label[:5])\n",
    "\n",
    "\n",
    "print(\"\\nTraining data:\", train_feat.shape, train_label.shape)\n",
    "print(\"\\nTesting data:\", test_feat.shape, test_label.shape)\n",
    "\n"
   ]
  },
  {
   "cell_type": "code",
   "execution_count": 8,
   "metadata": {
    "collapsed": false
   },
   "outputs": [],
   "source": [
    "X = train_feat\n",
    "y = train_label\n",
    "\n"
   ]
  },
  {
   "cell_type": "code",
   "execution_count": 34,
   "metadata": {
    "collapsed": false
   },
   "outputs": [],
   "source": [
    "graph = tf.Graph()\n",
    "subset = int(10e3)\n",
    "n_input = 4  # n variables\n",
    "n_hidden_1 = 10\n",
    "n_hidden_2 = n_hidden_1\n",
    "n_output = 1\n",
    "\n",
    "with graph.as_default():\n",
    "    tf_train_feat = tf.placeholder(tf.float32, shape=(subset, n_input))\n",
    "    tf_train_label = tf.placeholder(tf.float32, shape=(subset))\n",
    "    \n",
    "    \"\"\"\n",
    "    Weights and biases. The weights matix' columns will be the output vector.\n",
    "    \n",
    "    * ndarray([rows, columns])\n",
    "    * ndarray([in, out])\n",
    "    \n",
    "    tf.placeholder(None) and tf.placeholder([None, 3]) means that the row's size is not set. In the second \n",
    "    placeholder the columns are prefixed at 3.\n",
    "    \"\"\"\n",
    "    W = {\n",
    "        \"layer_1\": tf.Variable(tf.truncated_normal([n_input, n_hidden_1])),\n",
    "        \"layer_2\": tf.Variable(tf.truncated_normal([n_hidden_1, n_hidden_2])),\n",
    "        \"layer_3\": tf.Variable(tf.truncated_normal([n_hidden_2, n_output]))\n",
    "    }\n",
    "    \n",
    "            \n",
    "    b = {\n",
    "        \"layer_1\": tf.Variable(tf.zeros([n_hidden_1])),\n",
    "        \"layer_2\": tf.Variable(tf.zeros([n_hidden_2])),\n",
    "        \"layer_3\": tf.Variable(tf.zeros([n_output]))\n",
    "    }\n",
    "    \n",
    "    def computation(X):\n",
    "        layer_1 = tf.nn.relu(tf.matmul(X, W[\"layer_1\"]) + b[\"layer_1\"])\n",
    "        layer_2 = tf.nn.relu(tf.matmul(layer_1, W[\"layer_2\"]) + b[\"layer_2\"])\n",
    "        layer_3 = tf.nn.relu(tf.matmul(layer_2, W[\"layer_3\"]) + b[\"layer_3\"])\n",
    "        return layer_3\n",
    "    \n",
    "    prediction = computation(tf_train_feat)\n",
    "    \n",
    "    loss = tf.reduce_mean(tf.pow(tf_train_label - prediction, 2))\n",
    "    "
   ]
  },
  {
   "cell_type": "code",
   "execution_count": null,
   "metadata": {
    "collapsed": true
   },
   "outputs": [],
   "source": []
  },
  {
   "cell_type": "code",
   "execution_count": null,
   "metadata": {
    "collapsed": true
   },
   "outputs": [],
   "source": []
  }
 ],
 "metadata": {
  "kernelspec": {
   "display_name": "Python 3",
   "language": "python",
   "name": "python3"
  },
  "language_info": {
   "codemirror_mode": {
    "name": "ipython",
    "version": 3
   },
   "file_extension": ".py",
   "mimetype": "text/x-python",
   "name": "python",
   "nbconvert_exporter": "python",
   "pygments_lexer": "ipython3",
   "version": "3.5.2"
  }
 },
 "nbformat": 4,
 "nbformat_minor": 2
}
